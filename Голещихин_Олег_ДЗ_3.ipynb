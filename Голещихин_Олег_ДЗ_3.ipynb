{
 "cells": [
  {
   "cell_type": "markdown",
   "metadata": {},
   "source": [
    "Центр непрерывного образования\n",
    "\n",
    "# Программа «Python для автоматизации и анализа данных»\n",
    "\n",
    "*Ян Пиле, Яндекс.Маркет*  \n",
    "\n",
    "# Задачки на регулярные выражения"
   ]
  },
  {
   "cell_type": "markdown",
   "metadata": {},
   "source": [
    "### Задачка про аббревиатуры\n",
    "Владимир устроился на работу в одно очень важное место. И в первом же документе он ничего не понял, \n",
    "там были сплошные ФГУП НИЦ ГИДГЕО, ФГОУ ЧШУ АПК и т.п. Тогда он решил собрать все аббревиатуры, чтобы потом найти их расшифровки на http://sokr.ru/. Помогите ему.\n",
    "Будем считать аббревиатурой слова только лишь из заглавных букв (как минимум из двух). Если несколько таких слов разделены пробелами, то они \n",
    "считаются одной аббревиатурой."
   ]
  },
  {
   "cell_type": "markdown",
   "metadata": {},
   "source": [
    "**Ввод**: Это курс информатики соответствует ФГОС и ПООП, это подтверждено ФГУ ФНЦ НИИСИ РАН\\\n",
    "**Вывод**: ФГОС, ПООП, ФГУ, ФНЦ, НИИСИ, РАН"
   ]
  },
  {
   "cell_type": "code",
   "execution_count": 44,
   "metadata": {},
   "outputs": [
    {
     "name": "stdout",
     "output_type": "stream",
     "text": [
      "ФГОС, ПООП, ФГУ ФНЦ НИИСИ РАН\n"
     ]
    }
   ],
   "source": [
    "import re\n",
    "# Ваше решение\n",
    "s = 'Это курс информатики соответствует ФГОС и ПООП, это подтверждено ФГУ ФНЦ НИИСИ РАН'\n",
    "\n",
    "# Вариант 1: \"если несколько таких слов разделены пробелами, то они считаются одной аббревиатурой\"\n",
    "ans = re.findall(r'[А-Я][А-Я ]+', s)\n",
    "# print(ans)\n",
    "for i in range(len(ans)):\n",
    "    ans[i] = ans[i].strip()\n",
    "# print(ans)\n",
    "str_ans = ', '.join(ans)\n",
    "print(str_ans)"
   ]
  },
  {
   "cell_type": "code",
   "execution_count": 57,
   "metadata": {},
   "outputs": [
    {
     "name": "stdout",
     "output_type": "stream",
     "text": [
      "ФГОС, ПООП, ФГУ, ФНЦ, НИИСИ, РАН\n"
     ]
    }
   ],
   "source": [
    "# Вариант 2:\n",
    "import re\n",
    "\n",
    "ans = re.findall(r'[А-Я][А-Я]+', s)\n",
    "# print(ans)\n",
    "str_ans = ', '.join(ans)\n",
    "print(str_ans)"
   ]
  },
  {
   "cell_type": "markdown",
   "metadata": {},
   "source": [
    "### Задачка про перевод из camel_case'a в snake_case"
   ]
  },
  {
   "cell_type": "markdown",
   "metadata": {},
   "source": [
    "Мы уже довольно много говорили про то, что в компаниях могут быть конвенции по обозначению переменных. Что, если вы написали код, а в нем переменные названы в Camel Case а вам требуется snake case? Пожалуй, стоит автоматизировать этот процесс. Попробуем написать функцию, которая этот функционал реализует"
   ]
  },
  {
   "cell_type": "code",
   "execution_count": 56,
   "metadata": {},
   "outputs": [
    {
     "name": "stdout",
     "output_type": "stream",
     "text": [
      "camel_case_var\n"
     ]
    }
   ],
   "source": [
    "#Camel case to snake case\n",
    "v = 'camelCaseVar'\n",
    "import re\n",
    "\n",
    "keys = re.findall(r'[A-Z]', v)\n",
    "dict_sub = dict()\n",
    "for i in keys:\n",
    "    dict_sub[i] = '_' + i.lower()\n",
    "# print(dict_sub)\n",
    "ans = v\n",
    "for i in dict_sub.keys():\n",
    "    ans = re.sub(i, dict_sub[i], ans)\n",
    "print(ans)"
   ]
  },
  {
   "cell_type": "markdown",
   "metadata": {},
   "source": [
    "### Задачка про подсчет количества слов"
   ]
  },
  {
   "cell_type": "markdown",
   "metadata": {},
   "source": [
    "Слова у нас могут состоять из букв или букв, стоящих вокруг дефиса (во-первых, чуть-чуть, давай-ка). Попробуем это описать регулярным выражением"
   ]
  },
  {
   "cell_type": "code",
   "execution_count": 61,
   "metadata": {},
   "outputs": [
    {
     "name": "stdout",
     "output_type": "stream",
     "text": [
      "Количество слов в тексте: 30\n"
     ]
    }
   ],
   "source": [
    "text = '''\n",
    "                    - Дельный, что и говорить,\n",
    "                      Был старик тот самый,\n",
    "                      Что придумал суп варить\n",
    "                      На колесах прямо.\n",
    "                      Суп - во-первых. Во-вторых,\n",
    "                      Кашу в норме прочной.\n",
    "                      Нет, старик он был старик\n",
    "                      Чуткий - это точно.\n",
    "'''\n",
    "\n",
    "import re\n",
    "\n",
    "ans = re.findall(r'[А-Яа-яЁё]+-?[А-Яа-яЁё]*', text)\n",
    "# print(ans)\n",
    "print('Количество слов в тексте:', len(ans))"
   ]
  },
  {
   "cell_type": "markdown",
   "metadata": {},
   "source": [
    "### Задачка про поиск слов на а и на е"
   ]
  },
  {
   "cell_type": "markdown",
   "metadata": {},
   "source": [
    "Найдите в тексте слова, начинающиеся на а и на е"
   ]
  },
  {
   "cell_type": "code",
   "execution_count": 65,
   "metadata": {},
   "outputs": [
    {
     "name": "stdout",
     "output_type": "stream",
     "text": [
      "['example', 'an', 'ArrayList', 'a', 'elements', 'elements', 'are', 'added', 'ArrayList', 'and', 'ArrayList', 'accordingly']\n"
     ]
    }
   ],
   "source": [
    "import re\n",
    "# Input.\n",
    "text = \"The following example creates an ArrayList with a capacity of 50 elements.\\\n",
    "        Four elements are then added to the ArrayList and the ArrayList is trimmed accordingly.\"\n",
    "\n",
    "ans = re.findall(r'\\b[Aa]\\w*|\\b[Ee]\\w*', text)\n",
    "print(ans)"
   ]
  },
  {
   "cell_type": "markdown",
   "metadata": {},
   "source": [
    "**Пример 2**\n",
    "\n",
    "Найдите в тексте слова, начинающиеся на а и на е"
   ]
  },
  {
   "cell_type": "code",
   "execution_count": 66,
   "metadata": {},
   "outputs": [
    {
     "name": "stdout",
     "output_type": "stream",
     "text": [
      "['euch', 'einst', 'euch']\n"
     ]
    }
   ],
   "source": [
    "import re\n",
    "# Input.\n",
    "text = '''\n",
    "        Ihr naht euch wieder, schwankende Gestalten,\n",
    "        Die früh sich einst dem trüben Blick gezeigt.\n",
    "        Versuch’ ich wohl, euch diesmal festzuhalten?\n",
    "        Fühl’ ich mein Herz noch jenem Wahn geneigt?\n",
    "        '''\n",
    "\n",
    "ans = re.findall(r'\\b[Aa]\\w*|\\b[Ee]\\w*', text)\n",
    "print(ans)"
   ]
  },
  {
   "cell_type": "markdown",
   "metadata": {},
   "source": [
    "### Задачка про деление текста на предложения "
   ]
  },
  {
   "cell_type": "markdown",
   "metadata": {},
   "source": [
    "Для простоты будем считать, что: \n",
    "* каждое предложение начинается с заглавной русской или латинской буквы;\n",
    "* каждое предложение заканчивается одним из знаков препинания .;!?;\n",
    "* между предложениями может быть любой непустой набор пробельных символов;\n",
    "* внутри предложений нет заглавных и точек (нет пакостей в духе «Мы любим творчество А. С. Пушкина)».\n",
    "\n",
    "Разделите текст на предложения так, чтобы каждое предложение занимало одну строку. \n",
    "Пустых строк в выводе быть не должно."
   ]
  },
  {
   "cell_type": "code",
   "execution_count": 98,
   "metadata": {
    "scrolled": true
   },
   "outputs": [
    {
     "name": "stdout",
     "output_type": "stream",
     "text": [
      "Mr. Smith bought cheapsite.com for 1.5 million dollars, i.e. he paid a lot for it!\n",
      "Did he mind?\n",
      "Adam Jones Jr. thinks he didn't.\n",
      "In any case, this isn't true...\n",
      "Well, with a probability of .9 it isn't.\n"
     ]
    }
   ],
   "source": [
    "import re\n",
    "s = \"\"\"Mr. Smith bought cheapsite.com for 1.5 million dollars, i.e. he paid a lot for it! \\\n",
    "Did he mind? Adam Jones Jr. thinks he didn't. In any case, this isn't true... \\\n",
    "Well, with a probability of .9 it isn't.\"\"\"\n",
    "\n",
    "ans = re.split(r'(?<=[;.!?])(?<!Mr.)\\s+(?=[A-Z])', s)\n",
    "for i in ans:\n",
    "    print(i)"
   ]
  },
  {
   "cell_type": "markdown",
   "metadata": {},
   "source": [
    "### Давайте разберем реальный пример\n",
    "\n",
    "Возьмем перевод книги Идиот, вытащим оттуда текст первой главы, после чего посчитаем количество вхождений слова the. Ссылка 'https://www.gutenberg.org/files/2638/2638-0.txt'"
   ]
  },
  {
   "cell_type": "code",
   "execution_count": 7,
   "metadata": {},
   "outputs": [],
   "source": [
    "import re\n",
    "import requests\n",
    "\n",
    "the_idiot_url = 'https://www.gutenberg.org/files/2638/2638-0.txt'\n",
    "raw = requests.get(the_idiot_url).text\n",
    "\n",
    "# Индекс начала первой главы\n",
    "start = re.search(r'\\*\\*\\* START OF THIS PROJECT GUTENBERG EBOOK THE IDIOT \\*\\*\\*', raw).end()\n",
    "\n",
    "# Индекс конца первой главы\n",
    "end = re.search(r'II', raw).start()"
   ]
  },
  {
   "cell_type": "code",
   "execution_count": 101,
   "metadata": {},
   "outputs": [
    {
     "name": "stdout",
     "output_type": "stream",
     "text": [
      "Количество вхождений the в первую главу: 186\n"
     ]
    }
   ],
   "source": [
    "import re\n",
    "import requests\n",
    "\n",
    "the_idiot_url = 'https://www.gutenberg.org/files/2638/2638-0.txt'\n",
    "raw = requests.get(the_idiot_url).text\n",
    "\n",
    "# Индекс начала первой главы\n",
    "start = re.search(r'\\*\\*\\* START OF THIS PROJECT GUTENBERG EBOOK THE IDIOT \\*\\*\\*', raw).end()\n",
    "\n",
    "# Индекс конца первой главы\n",
    "end = re.search(r'II', raw).start()\n",
    "\n",
    "chapter_1 = raw[start:end]\n",
    "ans = re.findall(r'\\b[Tt]he\\b', chapter_1)\n",
    "print('Количество вхождений the в первую главу:', len(ans))"
   ]
  },
  {
   "cell_type": "markdown",
   "metadata": {},
   "source": [
    "## Про время\n",
    "Вовочка подготовил одно очень важное письмо, но везде указал неправильное время. \n",
    "Поэтому нужно заменить все вхождения времени на строку (TBD). Время — это строка вида HH:MM:SS или HH:MM, в которой HH — число от 00 до 23, а MM и SS — число от 00 до 59."
   ]
  },
  {
   "cell_type": "markdown",
   "metadata": {},
   "source": [
    "Ввод:\n",
    "\n",
    "    Уважаемые! Если вы к 09:00 не вернёте \n",
    "    чемодан, то уже в 09:00:01 я за себя не отвечаю. \n",
    "    PS. С отношением 25:50 всё нормально!\n",
    "    \n",
    "Вывод:\n",
    "\n",
    "    Уважаемые! Если вы к (TBD) не вернёте \n",
    "    чемодан, то уже в (TBD) я за себя не отвечаю. \n",
    "    PS. С отношением 25:50 всё нормально!"
   ]
  },
  {
   "cell_type": "code",
   "execution_count": 173,
   "metadata": {},
   "outputs": [
    {
     "name": "stdout",
     "output_type": "stream",
     "text": [
      "Уважаемые! Если вы к (TBD) не вернёте \n",
      "чемодан, то уже в (TBD) я за себя не отвечаю. \n",
      "PS. С отношением 25:50 всё нормально!\n"
     ]
    }
   ],
   "source": [
    "inp = \"\"\"Уважаемые! Если вы к 09:00 не вернёте \n",
    "чемодан, то уже в 09:00:01 я за себя не отвечаю. \n",
    "PS. С отношением 25:50 всё нормально!\"\"\"\n",
    "\n",
    "import re\n",
    "\n",
    "ans = re.sub(r'(?!2[4-9])[0-2][0-9](:[0-5][0-9]){1,2}', '(TBD)', inp)\n",
    "print(ans)"
   ]
  },
  {
   "cell_type": "markdown",
   "metadata": {},
   "source": [
    "## Про финансовую отчетность\n",
    "\n",
    "Владимиру потребовалось срочно запутать финансовую документацию. Но так, чтобы это было обратимо. \n",
    "Он не придумал ничего лучше, чем заменить каждое целое число (последовательность цифр) на его куб. Помогите ему.\n",
    "\n",
    "Ввод:\n",
    "\n",
    "    Было закуплено 12 единиц техники \n",
    "    по 410.37 рублей.\n",
    "    \n",
    "Вывод:\n",
    "\n",
    "    Было закуплено 1728 единиц техники \n",
    "    по 68921000.50653 рублей."
   ]
  },
  {
   "cell_type": "code",
   "execution_count": 151,
   "metadata": {},
   "outputs": [
    {
     "name": "stdout",
     "output_type": "stream",
     "text": [
      "Было закуплено 1728 единиц техники \n",
      "по 68921000.50653 рублей.\n"
     ]
    }
   ],
   "source": [
    "import re\n",
    "text = '''Было закуплено 12 единиц техники \n",
    "по 410.37 рублей.'''\n",
    "\n",
    "ans = re.findall(r'\\d+', text)\n",
    "# print(ans)\n",
    "dict_sub = dict()\n",
    "for i in ans:\n",
    "    dict_sub[i] = str(int(i)**3)\n",
    "# print(dict_sub)\n",
    "text1 = text\n",
    "for i in dict_sub.keys():\n",
    "    text1 = re.sub(i, dict_sub[i], text1)\n",
    "print(text1)"
   ]
  }
 ],
 "metadata": {
  "kernelspec": {
   "display_name": "Python 3",
   "language": "python",
   "name": "python3"
  },
  "language_info": {
   "codemirror_mode": {
    "name": "ipython",
    "version": 3
   },
   "file_extension": ".py",
   "mimetype": "text/x-python",
   "name": "python",
   "nbconvert_exporter": "python",
   "pygments_lexer": "ipython3",
   "version": "3.7.6"
  }
 },
 "nbformat": 4,
 "nbformat_minor": 2
}
