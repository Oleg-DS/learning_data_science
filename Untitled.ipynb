{
 "cells": [
  {
   "cell_type": "code",
   "execution_count": 13,
   "metadata": {},
   "outputs": [
    {
     "name": "stdout",
     "output_type": "stream",
     "text": [
      "3\n",
      "7 -8 2\n",
      "[0, 7]\n",
      "[0, 7, -1]\n",
      "[0, 7, -1, 1]\n",
      "1\n",
      "1 3\n",
      "1\n"
     ]
    }
   ],
   "source": [
    "n = int(input())\n",
    "lst = input().split()\n",
    "lst = list(map(int, lst))\n",
    "lst1 = list()\n",
    "lst1.append(0)\n",
    "for i in range(0, n):\n",
    "    lst1.append(lst1[i] + lst[i])\n",
    "\n",
    "m = int(input())\n",
    "for _ in range(m):\n",
    "    l, r = map(int, input().split())\n",
    "    l = l-1\n",
    "    print(lst1[r]-lst1[l])"
   ]
  },
  {
   "cell_type": "code",
   "execution_count": 3,
   "metadata": {},
   "outputs": [
    {
     "name": "stdout",
     "output_type": "stream",
     "text": [
      "1\n",
      "12321321323\n",
      "1\n",
      "12321321323.0\n",
      "2 -12321321323.0 0.0\n"
     ]
    }
   ],
   "source": [
    "import math as m\n",
    "\n",
    "a = float(input())\n",
    "b = float(input())\n",
    "c = float(input())\n",
    "\n",
    "try:\n",
    "    d = m.pow(b, 2)-4*a*c\n",
    "    print(m.sqrt(d))\n",
    "    if d>0:\n",
    "        x1 = (-b+m.sqrt(d))/(2*a)\n",
    "        x2 = (-b-m.sqrt(d))/(2*a)\n",
    "        if x1>x2:\n",
    "            print(2, x2, x1)\n",
    "        else:\n",
    "            print(2, x1, x2)\n",
    "    if d==0:\n",
    "        x = (-b)/(2*a)\n",
    "        print(1, x)\n",
    "    if d<0:\n",
    "        print(0)\n",
    "except:\n",
    "    print(3)"
   ]
  },
  {
   "cell_type": "code",
   "execution_count": 6,
   "metadata": {},
   "outputs": [
    {
     "name": "stdout",
     "output_type": "stream",
     "text": [
      "0\n",
      "0\n",
      "100\n",
      "0\n"
     ]
    }
   ],
   "source": [
    "a = float(input())\n",
    "b = float(input())\n",
    "c = float(input())\n",
    "\n",
    "if (a==0) & (b==0) & (c==0):\n",
    "    print(3)\n",
    "elif (a==0) & (b==0) & (c!=0):\n",
    "    print(0)\n",
    "elif (a==0):\n",
    "    x = -c/b\n",
    "    print(1, x)\n",
    "else:\n",
    "    d = b**2-4*a*c\n",
    "    if d>0:\n",
    "        x1 = (-b+d**0.5)/(2*a)\n",
    "        x2 = (-b-d**0.5)/(2*a)\n",
    "        if x1>x2:\n",
    "            print(2, x2, x1)\n",
    "        else:\n",
    "            print(2, x1, x2)\n",
    "    if d==0:\n",
    "        x = (-b)/(2*a)\n",
    "        print(1, x)\n",
    "    if d<0:\n",
    "        print(0)"
   ]
  },
  {
   "cell_type": "code",
   "execution_count": 82,
   "metadata": {},
   "outputs": [
    {
     "name": "stdout",
     "output_type": "stream",
     "text": [
      "0\n",
      "0.0.0.0\n",
      "\n"
     ]
    }
   ],
   "source": [
    "n = input()\n",
    "if n.find('.') != -1:\n",
    "    lst = list(map(int, n.split('.')))[::-1]\n",
    "    print(lst[3]*256**3 + lst[2]*256**2 + lst[1]*256**1 + lst[0])\n",
    "else:\n",
    "    n = int(n)\n",
    "    if n == 0:\n",
    "        print('0.0.0.0')\n",
    "    lst = []\n",
    "    cnt = 0\n",
    "    while n>0:\n",
    "        lst.append(n%256)\n",
    "        n = n // 256\n",
    "        cnt += 1\n",
    "    if cnt == 3:\n",
    "        lst.append(0)\n",
    "    elif cnt == 2:\n",
    "        lst = lst + [0, 0]\n",
    "    elif cnt == 1:\n",
    "        lst = lst + [0, 0, 0]\n",
    "    lst = list(map(str, lst[::-1]))\n",
    "    print('.'.join(lst))"
   ]
  },
  {
   "cell_type": "code",
   "execution_count": 72,
   "metadata": {},
   "outputs": [
    {
     "name": "stdout",
     "output_type": "stream",
     "text": [
      "2\n",
      "16\n"
     ]
    },
    {
     "data": {
      "text/plain": [
       "65536.0"
      ]
     },
     "execution_count": 72,
     "metadata": {},
     "output_type": "execute_result"
    }
   ],
   "source": [
    "a = float(input())\n",
    "n = int(input())\n",
    "\n",
    "def pwr(x, y):\n",
    "    if y == 0:\n",
    "        return 1\n",
    "    elif y%2 != 0:\n",
    "        return x*pwr(x, (y-1))\n",
    "    elif y%2 == 0:\n",
    "        return pwr(x**2, y//2)\n",
    "\n",
    "pwr(a, n)"
   ]
  },
  {
   "cell_type": "code",
   "execution_count": 13,
   "metadata": {},
   "outputs": [
    {
     "name": "stdout",
     "output_type": "stream",
     "text": [
      "0\n",
      "2\n",
      "0\n",
      "4\n",
      "1\n",
      "2\n",
      "4 0.5\n"
     ]
    }
   ],
   "source": [
    "a = float(input())\n",
    "b = float(input())\n",
    "c = float(input())\n",
    "d = float(input())\n",
    "e = float(input())\n",
    "f = float(input())\n",
    "\n",
    "if (a==b==c==d==e==f==0):\n",
    "    print(5)\n",
    "elif ((a==b==0) and (e!=0)) or ((c==d==0) and (f!=0)):\n",
    "    print(0)\n",
    "elif (a==b==e==0):\n",
    "    if (d!=0) and (c!=0):\n",
    "        print(1, -c/d, f/d)\n",
    "    elif (d==0) and (c!=0):\n",
    "        print(3, f/c)\n",
    "    elif (d!=0) and (c==0):\n",
    "        print(4, f/d)\n",
    "elif (c==d==f==0):\n",
    "    if (b!=0) and (a!=0):\n",
    "        print(1, -a/b, e/b)\n",
    "    elif (b==0) and (a!=0):\n",
    "        print(3, e/a)\n",
    "    elif (b!=0) and (a==0):\n",
    "        print(4, e/b)\n",
    "elif (b==d==0):\n",
    "    if (e/a) == (f/c):\n",
    "        print(3, e/a)\n",
    "    else:\n",
    "        print(0)\n",
    "elif (a==c==0):\n",
    "    if (e/b) == (f/d):\n",
    "        print(4, e/b)\n",
    "    else:\n",
    "        print(0)\n",
    "elif (c!=0) and (d!=0) and (f!=0):\n",
    "    if (a/c)==(b/d)==(e/f):\n",
    "        print(1, -a/b, e/b)\n",
    "else:\n",
    "    x = (d*e-b*f)/(d*a-b*c)\n",
    "    y = (a*f-c*e)/(a*d-c*b)\n",
    "    print(2, x, y)"
   ]
  },
  {
   "cell_type": "code",
   "execution_count": 25,
   "metadata": {},
   "outputs": [
    {
     "data": {
      "text/plain": [
       "6"
      ]
     },
     "execution_count": 25,
     "metadata": {},
     "output_type": "execute_result"
    }
   ],
   "source": [
    "lst = [2, 2, 2]\n",
    "sum(lst[:3])"
   ]
  }
 ],
 "metadata": {
  "kernelspec": {
   "display_name": "Python 3",
   "language": "python",
   "name": "python3"
  },
  "language_info": {
   "codemirror_mode": {
    "name": "ipython",
    "version": 3
   },
   "file_extension": ".py",
   "mimetype": "text/x-python",
   "name": "python",
   "nbconvert_exporter": "python",
   "pygments_lexer": "ipython3",
   "version": "3.7.6"
  }
 },
 "nbformat": 4,
 "nbformat_minor": 4
}
