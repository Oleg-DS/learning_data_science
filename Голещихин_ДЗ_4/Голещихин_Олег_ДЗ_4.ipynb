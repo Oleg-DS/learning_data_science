{
 "cells": [
  {
   "cell_type": "markdown",
   "metadata": {},
   "source": [
    "### Центр непрерывного образования\n",
    "# Программа «Python для автоматизации и анализа данных»¶\n",
    "\n",
    "Лабораторная/Домашняя работа # 3  \n",
    "Автор: Михаил Густокашин\n",
    "\n",
    "#### Disclaimer\n",
    "В некоторых заданиях нужно считывать файлы и записывать ответ в файл. Пожалуйста, читайте файлы из той же папки, где лежит блокнот (не прописывайте к ним полный путь) или загружайте файл по ссылке. Файл с ответом нужно вложить в архив с блокнотом и архив добавить в Dropbox.\n",
    "\n",
    "Всего можно набрать 12 баллов, максимальная оценка за работу - 10."
   ]
  },
  {
   "cell_type": "markdown",
   "metadata": {},
   "source": [
    "### Задание 1. Скрейпинг cтраницы (1 балл)\n",
    "\n",
    "Мы сохранили страницу с википедии про языки программирования и сохранили по адресу https://stepik.org/media/attachments/lesson/209717/1.html\n",
    "Скачайте её с помощью скрипта на Питоне и посчитайте, какой язык упоминается чаще Python или C++ (ответ должен быть одной из этих двух строк). Необходимо просто подсчитать количество вхождений слова Python или C++ как подстроки. Тут не нужно пользоваться парсингом и bs, работайте со строками."
   ]
  },
  {
   "cell_type": "code",
   "execution_count": 5,
   "metadata": {},
   "outputs": [
    {
     "name": "stdout",
     "output_type": "stream",
     "text": [
      "C++\n"
     ]
    }
   ],
   "source": [
    "# ваше решение здесь\n",
    "\n",
    "import requests\n",
    "\n",
    "link = 'https://stepik.org/media/attachments/lesson/209717/1.html'\n",
    "text = requests.get(link).text\n",
    "num_c = text.count('C++')\n",
    "num_py = text.count('Python')\n",
    "# print('C++:', num_c, 'Python:', num_py)\n",
    "if num_c > num_py:\n",
    "    print('C++')\n",
    "elif num_c < num_py:\n",
    "    print('Python')\n",
    "else:\n",
    "    print('Python и C++ упоминаются одинаковое количество раз')"
   ]
  },
  {
   "cell_type": "markdown",
   "metadata": {},
   "source": [
    "### Задание 2. Автоматизируем написание html скрипта (2 балла)\n",
    "В этой задаче вам необходимо научиться генерировать html-код на питоне и сдать на проверку html-файл, в котором будет таблица размером 10 на 10, которая должна содержать таблицу умножения для чисел от 1 до 10. При открытии вашего файла в браузере это должно выглядеть примерно так:\n",
    "\n",
    "![](table.jpg)\n",
    "\n",
    "```\n",
    "1. Ваш файл должен начинаться с тегов <html> и <body> и заканчиваться </body> и </html>.\n",
    "2. Для создания таблицы можно пользоваться тегами <table> (создание таблицы), \n",
    "<tr> (создание строки в таблице) и <td> (создание отдельной ячейки). \n",
    "Все открытые теги нужно закрыть, причем сделать это нужно в правильном порядке.\n",
    "3. Пожалуйста, не используйте никаких украшений и других тегов.\n",
    "```\n",
    "Ниже напишите код, который генерирует html и записывает его в файл, и приложите к архиву с вашим блокнотом файл **output2.html**\n"
   ]
  },
  {
   "cell_type": "code",
   "execution_count": 8,
   "metadata": {},
   "outputs": [],
   "source": [
    "# ваше решение здесь\n",
    "\n",
    "table = '<html><body><table>'\n",
    "for i in range(10):\n",
    "    table += '<tr>'\n",
    "    for j in range(10):\n",
    "        table += '<td>' + str((i+1)*(j+1)) + '</td>'\n",
    "    table += '</tr>'\n",
    "table += '</table></body></html>'\n",
    "\n",
    "with open('output2.html', 'w') as file:\n",
    "    file.write(table)\n",
    "\n",
    "# with open('output2.html', 'r') as file:\n",
    "#     print(file.read())"
   ]
  },
  {
   "cell_type": "markdown",
   "metadata": {},
   "source": [
    "### Задание 3. Скрэйпинг ссылок (2 балла)\n",
    "\n",
    "*1 балл*  \n",
    "Мы сохранили статью с википедии, она доступна по ссылке https://stepik.org/media/attachments/lesson/258943/Moscow.html\n",
    "\n",
    "Вам необходимо обработать ее с помощью BeautifulSoup и подсчитать все внутренние ссылки, которые не содержат в себе двоеточия (не являются ссылкой на техническую статью в википедии) и не начинаются с символа #.\n",
    "\n",
    "Под ссылкой понимается содержимое аттрибута href тега a. Ссылка называется внешней, если она ведет на другой сайт (т.е. начинается с http:// или https://). Все остальные ссылки являются внутренними.\n",
    "Вам могут быть полезны методы find_all для супа (он позволяет найти все теги на странице), метод has_attr для тега (проверяет есть ли такой атрибут у тега) и доступ к атрибуту тега по аналогии со словарем.\n",
    "В качестве ответа выведите количество внутренних ссылок, удовлетворяющих условию.\n",
    "\n",
    "*1 балл*  \n",
    "В этой задаче достаточно обернуть в функцию то, что делает предыдущая и вызвать подсчет числа внутренних ссылок для двух статей: https://stepik.org/media/attachments/lesson/258943/Moscow.html и https://stepik.org/media/attachments/lesson/258944/New-York.html\n",
    "В качестве ответа на задачу выведите два числа через пробел.\n"
   ]
  },
  {
   "cell_type": "code",
   "execution_count": 28,
   "metadata": {},
   "outputs": [
    {
     "name": "stdout",
     "output_type": "stream",
     "text": [
      "1985\n"
     ]
    }
   ],
   "source": [
    "# Ваше решение здесь\n",
    "\n",
    "import requests\n",
    "from bs4 import BeautifulSoup\n",
    "import re\n",
    "\n",
    "url = 'https://stepik.org/media/attachments/lesson/258943/Moscow.html'\n",
    "text = requests.get(url).text\n",
    "soup = BeautifulSoup(text, 'lxml')\n",
    "# print(soup.prettify())\n",
    "links = (i for i in soup.find_all('a') if i.has_attr('href'))\n",
    "count = 0\n",
    "# a = []\n",
    "for i in links:\n",
    "# так как в http:// и https:// уже есть двоеточие, то можно просто проверять строки на наличие символа ':' или '#'\n",
    "    if not re.search(r'[#:]', i.attrs['href']):\n",
    "        count += 1\n",
    "#         a.append(i.attrs['href'])\n",
    "print(count)\n",
    "# print(len(a))\n",
    "# print(a)"
   ]
  },
  {
   "cell_type": "code",
   "execution_count": 29,
   "metadata": {},
   "outputs": [
    {
     "name": "stdout",
     "output_type": "stream",
     "text": [
      "1985 3185\n"
     ]
    }
   ],
   "source": [
    "# ваше решние здесь\n",
    "\n",
    "import requests\n",
    "from bs4 import BeautifulSoup\n",
    "import re\n",
    "\n",
    "def link_count(url):\n",
    "    text = requests.get(url).text\n",
    "    soup = BeautifulSoup(text, 'lxml')\n",
    "    links = (i for i in soup.find_all('a') if i.has_attr('href'))\n",
    "    count = 0\n",
    "    for i in links:\n",
    "        if not re.search(r'[#:]', i.attrs['href']):\n",
    "            count += 1\n",
    "    return(count)\n",
    "\n",
    "l1 = 'https://stepik.org/media/attachments/lesson/258943/Moscow.html'\n",
    "l2 = 'https://stepik.org/media/attachments/lesson/258944/New-York.html'\n",
    "print(link_count(l1), link_count(l2))"
   ]
  },
  {
   "cell_type": "markdown",
   "metadata": {},
   "source": [
    "### Задание 4. Скрейпинг таблицы (2 балла)\n",
    "\n",
    "В файле https://stepik.org/media/attachments/lesson/209723/3.html находится одна таблица. Просуммируйте все числа в ней и введите в качестве ответа одно число - эту сумму. Для доступа к ячейкам используйте возможности BeautifulSoup.\n"
   ]
  },
  {
   "cell_type": "code",
   "execution_count": 23,
   "metadata": {},
   "outputs": [
    {
     "name": "stdout",
     "output_type": "stream",
     "text": [
      "1005425\n"
     ]
    }
   ],
   "source": [
    "import requests\n",
    "from bs4 import BeautifulSoup\n",
    "import re\n",
    "\n",
    "link = 'https://stepik.org/media/attachments/lesson/209723/3.html'\n",
    "text = requests.get(link).text\n",
    "soup = BeautifulSoup(text, 'lxml')\n",
    "# print(soup.prettify())\n",
    "# str_list = re.findall(r'\\d+', text)\n",
    "# num_list = [int(i) for i in str_list]\n",
    "# print(sum(num_list), len(num_list))\n",
    "res = soup.find_all('td')\n",
    "# если пройти по ссылке, то кажется, что все числа целые\n",
    "num = [int(i.text.strip()) for i in res]\n",
    "print(sum(num))\n",
    "# print(len(num))\n",
    "# print(num)"
   ]
  },
  {
   "cell_type": "markdown",
   "metadata": {},
   "source": [
    "# Задание 5. Зарплата (1.5 балла)\n",
    "\n",
    "Главный бухгалтер компании \"Рога и копыта\" случайно удалил ведомость с начисленной зарплатой. К счастью, у него сохранились расчётные листки всех сотрудников. Помогите по этим расчётным листкам восстановить зарплатную ведомость. Архив с расчётными листками доступен по ссылке https://github.com/pileyan/DPO_Python_v2/tree/master/Problems_4/rogaikopyta.zip(вы можете скачать и распаковать его вручную или самостоятельно научиться делать это с помощью скрипта на Питоне (например, вот a для zip как раз есть https://docs.python.org/3/library/zipfile.html ).\n",
    "\n",
    "Ведомость должна содержать 1000 строк, в каждой строке должно быть указано ФИО сотрудника и, через пробел, его зарплата. Сотрудники должны быть упорядочены по алфавиту. Сохраните ответ в файл и приложите его к архиву с решениями.\n",
    "\n",
    "**Ответ: файл output5.txt**\n"
   ]
  },
  {
   "cell_type": "code",
   "execution_count": 2,
   "metadata": {},
   "outputs": [],
   "source": [
    "# ваше решение здесь\n",
    "\n",
    "from zipfile import ZipFile\n",
    "import os\n",
    "from openpyxl import load_workbook\n",
    "\n",
    "with open('output5.txt', 'w', encoding='utf8') as f:\n",
    "    f.write('')\n",
    "\n",
    "str_f = dict()\n",
    "with ZipFile('rogaikopyta.zip', 'r') as hh:\n",
    "    for file in hh.namelist():\n",
    "        hh.extract(file)\n",
    "        book = load_workbook(file)\n",
    "        sheet = book.active\n",
    "        str_f[sheet['B2'].value] = sheet['D2'].value\n",
    "        os.remove(file)\n",
    "\n",
    "for k in sorted(str_f):\n",
    "    with open('output5.txt', 'a', encoding='utf8') as f:\n",
    "        f.write(k + ' ' + str(str_f[k]) + '\\n')"
   ]
  },
  {
   "cell_type": "code",
   "execution_count": 66,
   "metadata": {},
   "outputs": [],
   "source": []
  },
  {
   "cell_type": "code",
   "execution_count": null,
   "metadata": {},
   "outputs": [],
   "source": []
  },
  {
   "cell_type": "markdown",
   "metadata": {},
   "source": [
    "# Задание 6. Медиана (2 балла)\n",
    "\n",
    "Вася планирует карьеру и переезд. Для это составил таблицу, в которой для каждого региона записал зарплаты для разных интересные ему профессий. Таблица доступна по ссылке https://github.com/pileyan/DPO_Python_v2/tree/master/Problems_4/salaries.xlsx. Выведите название региона с самой высокой медианной зарплатой (медианой называется элемент, стоящий в середине массива после его упорядочивания) и, через пробел, название профессии с самой высокой средней зарплатой по всем регионам."
   ]
  },
  {
   "cell_type": "code",
   "execution_count": 34,
   "metadata": {},
   "outputs": [
    {
     "name": "stdout",
     "output_type": "stream",
     "text": [
      "Куала-Лумпур Собачий парикмахер\n"
     ]
    }
   ],
   "source": [
    "# решение 1 через openpyxl. Можно было использовать openpyxl только для считывания данных\n",
    "# и операции по нахождению медианы делать уже с помощью средств python\n",
    "\n",
    "from openpyxl import load_workbook\n",
    "\n",
    "book = load_workbook(filename='salaries.xlsx')\n",
    "sheet = book.active\n",
    "\n",
    "#Ищем название региона с самой высокой медианной зарплатой\n",
    "dt1 = list()\n",
    "for val in sheet.iter_rows(min_row=2, \n",
    "                           max_row=9, \n",
    "                           min_col=1, \n",
    "                           max_col=8, \n",
    "                           values_only=True):\n",
    "    dt1.append(val)\n",
    "\n",
    "m_dict = dict()\n",
    "for i in dt1:\n",
    "    m_dict[i[0]] = sorted(i[1:])[3]\n",
    "max_m = max(m_dict.values())\n",
    "place_max_m = list(m_dict.keys())[list(m_dict.values()).index(max_m)]\n",
    "# print(m_dict)\n",
    "\n",
    "#Ищем название профессии с самой высокой средней зарплатой по всем регионам\n",
    "dt2 = list()\n",
    "for val in sheet.iter_cols(min_row=1, \n",
    "                           max_row=9, \n",
    "                           min_col=2, \n",
    "                           max_col=8, \n",
    "                           values_only=True):\n",
    "    dt2.append(val)\n",
    "\n",
    "a_dict = dict()\n",
    "for i in dt2:\n",
    "    a_dict[i[0]] = sum(i[1:])/len(i[1:])\n",
    "max_a = max(a_dict.values())\n",
    "prof_max_a = list(a_dict.keys())[list(a_dict.values()).index(max_a)]\n",
    "# print(a_dict)\n",
    "\n",
    "print(place_max_m, prof_max_a)"
   ]
  },
  {
   "cell_type": "code",
   "execution_count": null,
   "metadata": {},
   "outputs": [],
   "source": [
    "# решение 2 – набить нужных формул в Openpyxl :)\n",
    "# перед тем, как запускать ячейку нужно открыть файл test.xlsx в excel и сохранить его \n",
    "# это связано с тем, что openpyxl не может выполнить расчетов формул\n",
    "# нам нужно, чтобы расчеты сохранились в кэше, тогда сможем их достать\n",
    "# есть другие библиотеки, которую позволяют обходить эту проблему элегантней"
   ]
  },
  {
   "cell_type": "code",
   "execution_count": null,
   "metadata": {},
   "outputs": [],
   "source": []
  },
  {
   "cell_type": "markdown",
   "metadata": {},
   "source": [
    "# Задание 7. Вася-завхоз (1.5 балла)\n",
    "\n",
    "Васю назначили завхозом в туристической группе и он подошёл к подготовке ответственно, составив справочник продуктов с указанием калорийности на 100 грамм, а также содержание белков, жиров и углеводов на 100 грамм продукта. Ему не удалось найти всю информацию, поэтому некоторые ячейки остались незаполненными (можно считать их значение равным нулю). Также он использовал какой-то странный офисный пакет и разделял целую и дробную часть чисел запятой. Таблица доступна по ссылке https://github.com/pileyan/DPO_Python_v2/tree/master/Problems_4/trekking1.xlsx\n",
    "Вася хочет минимизировать вес продуктов и для этого брать самые калорийные продукты. Помогите ему и упорядочите продукты по убыванию калорийности. В случае, если продукты имеют одинаковую калорийность - упорядочите их по названию. \n",
    "\n",
    "В качестве ответа необходимо вывести названия продуктов, по одному в строке.\n"
   ]
  },
  {
   "cell_type": "code",
   "execution_count": null,
   "metadata": {},
   "outputs": [],
   "source": [
    "# ваше решение здесь\n"
   ]
  },
  {
   "cell_type": "code",
   "execution_count": null,
   "metadata": {},
   "outputs": [],
   "source": []
  }
 ],
 "metadata": {
  "kernelspec": {
   "display_name": "Python 3",
   "language": "python",
   "name": "python3"
  },
  "language_info": {
   "codemirror_mode": {
    "name": "ipython",
    "version": 3
   },
   "file_extension": ".py",
   "mimetype": "text/x-python",
   "name": "python",
   "nbconvert_exporter": "python",
   "pygments_lexer": "ipython3",
   "version": "3.7.6"
  }
 },
 "nbformat": 4,
 "nbformat_minor": 2
}
