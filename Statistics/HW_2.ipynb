{
 "cells": [
  {
   "cell_type": "markdown",
   "metadata": {},
   "source": [
    "**Упражнение 5** Рассмотрим нормальное распределение $\\mathcal{N}(\\theta,\\sigma^2)$ с неизвестными параметрами $\\theta\\in\\mathbb{R}$ и $\\sigma^2>0$. В этой задаче мы численно сравним следующие доверительные интервалы для параметра $\\theta$: 1) теоретический, 2) на основе параметрического бутстрэпа, 3) на основе непараметрического бустрэпа."
   ]
  },
  {
   "cell_type": "code",
   "execution_count": 1,
   "metadata": {},
   "outputs": [],
   "source": [
    "import numpy as np\n",
    "from scipy import stats"
   ]
  },
  {
   "cell_type": "code",
   "execution_count": 2,
   "metadata": {},
   "outputs": [],
   "source": [
    "np.random.seed(123)"
   ]
  },
  {
   "cell_type": "markdown",
   "metadata": {},
   "source": [
    "#### (1) Сгенерируем неизвестный параметр $\\theta$ из равномерного распределения на $[10,20]$ и $\\sigma$ - из равномерного распределния $[1,2]$."
   ]
  },
  {
   "cell_type": "code",
   "execution_count": 5,
   "metadata": {},
   "outputs": [
    {
     "name": "stdout",
     "output_type": "stream",
     "text": [
      "12.861393349503794 1.226851453564203\n"
     ]
    }
   ],
   "source": [
    "theta = np.random.uniform(10,20)\n",
    "sigma = np.random.uniform(1,2)\n",
    "print(theta, sigma)"
   ]
  },
  {
   "cell_type": "markdown",
   "metadata": {},
   "source": [
    "#### (2) Сгенерируем выборку из нормального распределения $\\mathcal{N}(\\theta,\\sigma^2)$ размера $n=50$."
   ]
  },
  {
   "cell_type": "code",
   "execution_count": 18,
   "metadata": {},
   "outputs": [
    {
     "data": {
      "text/plain": [
       "array([11.97661777, 10.77277248, 13.8031754 , 13.31616148, 15.40767368,\n",
       "       13.01813306, 15.06959034, 14.38068491, 13.98243739, 13.43343496,\n",
       "       13.01479844, 12.61890503, 11.96820265, 12.11262944, 11.79029195,\n",
       "       13.05335761, 13.21295017, 13.92595419, 14.41644954, 15.44739989,\n",
       "       12.57174666, 12.57666342, 11.53867645, 14.28844799, 13.50241106,\n",
       "       15.12415549, 13.71474706, 12.63848769, 12.34334225, 14.10262404,\n",
       "       12.77949192, 12.66992614, 14.80406936, 11.89635938, 13.48900158,\n",
       "       14.62982672, 11.83463188, 13.42558799, 11.11104392, 12.17836865,\n",
       "       13.08203017, 10.23045473, 11.96936317, 13.23854972, 12.38594086,\n",
       "       11.87559111, 14.01339365, 13.3985328 , 14.26134321, 13.07173921])"
      ]
     },
     "execution_count": 18,
     "metadata": {},
     "output_type": "execute_result"
    }
   ],
   "source": [
    "alpha = 0.05\n",
    "n = 50\n",
    "sample = np.random.normal(theta, sigma, n)\n",
    "sample"
   ]
  },
  {
   "cell_type": "markdown",
   "metadata": {},
   "source": [
    "#### (3) Построим доверительные интервалы 1), 2), 3) уровня доверия $1-\\alpha$."
   ]
  },
  {
   "cell_type": "code",
   "execution_count": 21,
   "metadata": {},
   "outputs": [
    {
     "data": {
      "text/plain": [
       "[12.706870693433915, 13.511856053571845]"
      ]
     },
     "execution_count": 21,
     "metadata": {},
     "output_type": "execute_result"
    }
   ],
   "source": [
    "# теоретический доверительный интервал\n",
    "\n",
    "s_est = (1/(n-1))*((sample-np.mean(sample))**2).sum() # несмещенная оценка дисперсии\n",
    "# s_est_1 = np.var(sample, ddof=1)\n",
    "# quantile = stats.t(df=n-1).ppf(alpha/2)\n",
    "quant = stats.t(df=n-1).ppf(1-alpha/2) # квантиль уровня (1-aplha/2) распределения Стьюдента с (n-1) степенью свободы\n",
    "# print(s_est, sigma**2, np.mean(sample))\n",
    "# print(quantile_1, quantile_2)\n",
    "ci_theoretical = [np.mean(sample)-quant*s_est/np.sqrt(n), np.mean(sample)+quant*s_est/np.sqrt(n)]\n",
    "ci_theoretical"
   ]
  },
  {
   "cell_type": "code",
   "execution_count": 27,
   "metadata": {},
   "outputs": [
    {
     "data": {
      "text/plain": [
       "[12.830552573356997, 13.398812203567772]"
      ]
     },
     "execution_count": 27,
     "metadata": {},
     "output_type": "execute_result"
    }
   ],
   "source": [
    "# доверительный интервал на основе параметрического бутстрэпа\n",
    "\n",
    "bs_number = 10 # количество бутстрэп-выборок\n",
    "bs_size = 20 # рамзер бутстрэп-выборки\n",
    "mean = np.mean(sample) # оценка параметра theta\n",
    "dev = np.sqrt(np.var(sample, ddof=1)) # оценка параметра sigma\n",
    "bs_samples = np.random.normal(mean, dev, size=[bs_number, bs_size]) # генерируем бутстрэп-выборки\n",
    "bs_theta_est = np.apply_along_axis(np.mean, 1, bs_samples) # оцениваем theta по каждой выборке\n",
    "ci_bs_par = [np.quantile(bs_theta_est, alpha/2), np.quantile(bs_theta_est,1-alpha/2)]\n",
    "ci_bs_par"
   ]
  },
  {
   "cell_type": "code",
   "execution_count": 34,
   "metadata": {},
   "outputs": [
    {
     "data": {
      "text/plain": [
       "[12.663347483141209, 13.440020377313827]"
      ]
     },
     "execution_count": 34,
     "metadata": {},
     "output_type": "execute_result"
    }
   ],
   "source": [
    "# доверительный интервал на основе непараметрического бутстрэпа\n",
    "\n",
    "bs_number = 10 # количество бутстрэп-выборок\n",
    "bs_size = 20 # рамзер бутстрэп-выборки\n",
    "bs_samples_np = np.random.choice(sample, size=[bs_number, bs_size]) # генерируем бутстрэп-выборки\n",
    "bs_theta_est_np = np.apply_along_axis(np.mean, 1, bs_samples_np) # оцениваем theta по каждой выборке\n",
    "ci_bs_np = [np.quantile(bs_theta_est_np, alpha/2), np.quantile(bs_theta_est_np, 1-alpha/2)]\n",
    "ci_bs_np"
   ]
  },
  {
   "cell_type": "markdown",
   "metadata": {},
   "source": [
    "#### (4) Сравним длины полученных интервалов"
   ]
  },
  {
   "cell_type": "code",
   "execution_count": 35,
   "metadata": {},
   "outputs": [
    {
     "name": "stdout",
     "output_type": "stream",
     "text": [
      "Длина теоретического доверительного интервала: 0.8049853601379304\n",
      "Длина интервала на основе параметрического бутстрэпа: 0.5682596302107754\n",
      "Длина интервала на основе непараметрического бутстрэпа: 0.7766728941726182\n"
     ]
    }
   ],
   "source": [
    "print('Длина теоретического доверительного интервала:', ci_theoretical[1] - ci_theoretical[0])\n",
    "print('Длина интервала на основе параметрического бутстрэпа:', ci_bs_par[1] - ci_bs_par[0])\n",
    "print('Длина интервала на основе непараметрического бутстрэпа:', ci_bs_np[1] - ci_bs_np[0])"
   ]
  },
  {
   "cell_type": "markdown",
   "metadata": {},
   "source": [
    "#### (5) Проведите этот эксперимент на 10 000 выборок. С какой частотой $\\theta$ попадает в полученные доверительные интервалы?"
   ]
  },
  {
   "cell_type": "code",
   "execution_count": 41,
   "metadata": {},
   "outputs": [],
   "source": [
    "samples_num = 10000\n",
    "theor = np.zeros(samples_num)\n",
    "bs_par = np.zeros(samples_num)\n",
    "bs_np = np.zeros(samples_num)"
   ]
  },
  {
   "cell_type": "code",
   "execution_count": 42,
   "metadata": {},
   "outputs": [],
   "source": [
    "def CI_theor(sample, alpha):\n",
    "    n = len(sample)\n",
    "    s_est = np.var(sample, ddof=1)\n",
    "    quant = stats.t(df=n-1).ppf(1-alpha/2)\n",
    "    return [np.mean(sample)-quant*s_est/np.sqrt(n), np.mean(sample)+quant*s_est/np.sqrt(n)]"
   ]
  },
  {
   "cell_type": "code",
   "execution_count": 43,
   "metadata": {},
   "outputs": [],
   "source": [
    "def CI_bs_par(sample, alpha, bs_num, bs_size):\n",
    "    mean = np.mean(sample)\n",
    "    dev = np.sqrt(np.var(sample, ddof=1))\n",
    "    bs_samples = np.random.normal(mean, dev, size=[bs_num, bs_size])\n",
    "    bs_theta_est = np.apply_along_axis(np.mean, 1, bs_samples)\n",
    "    return [np.quantile(bs_theta_est, alpha/2), np.quantile(bs_theta_est,1-alpha/2)]"
   ]
  },
  {
   "cell_type": "code",
   "execution_count": 46,
   "metadata": {},
   "outputs": [],
   "source": [
    "def CI_bs_np(sample, alpha, bs_num, bs_size):\n",
    "    bs_samples_np = np.random.choice(sample, size=[bs_num, bs_size])\n",
    "    bs_theta_est_np = np.apply_along_axis(np.mean, 1, bs_samples_np)\n",
    "    return [np.quantile(bs_theta_est_np, alpha/2), np.quantile(bs_theta_est_np, 1-alpha/2)]"
   ]
  },
  {
   "cell_type": "code",
   "execution_count": 47,
   "metadata": {},
   "outputs": [],
   "source": [
    "alpha = 0.05\n",
    "number_of_bs_samples = 10\n",
    "size_of_bs_samples = 20\n",
    "\n",
    "for i in range(samples_num):\n",
    "    sample = np.random.normal(theta, sigma, size=n)\n",
    "    \n",
    "    ci_theoretical = CI_theor(sample, alpha)\n",
    "    theor[i] = ((theta >= ci_theoretical[0]) and (theta <= ci_theoretical[1]))\n",
    "    \n",
    "    ci_bs_par = CI_bs_par(sample, alpha, number_of_bs_samples, size_of_bs_samples)\n",
    "    bs_par[i] = ((theta >= ci_bs_par[0]) and (theta <= ci_bs_par[1]))\n",
    "    \n",
    "    ci_bs_np = CI_bs_np(sample, alpha, number_of_bs_samples, size_of_bs_samples)\n",
    "    bs_np[i] = ((theta >= ci_bs_np[0]) and (theta <= ci_bs_np[1]))"
   ]
  },
  {
   "cell_type": "code",
   "execution_count": 48,
   "metadata": {},
   "outputs": [
    {
     "name": "stdout",
     "output_type": "stream",
     "text": [
      "Частота попадания истинного параметра в доверительный интервал:\n",
      "- для теоретического доверительного интервала  0.9746\n",
      "- для параметрического бутстрэп доверительного интервала  0.9172\n",
      "- для непараметрического бутстрэп доверительного интервала  0.9143\n"
     ]
    }
   ],
   "source": [
    "print(\"Частота попадания истинного параметра в доверительный интервал:\")\n",
    "print(\"- для теоретического доверительного интервала \", np.mean(theor))\n",
    "print(\"- для параметрического бутстрэп доверительного интервала \", np.mean(bs_par))\n",
    "print(\"- для непараметрического бутстрэп доверительного интервала \", np.mean(bs_np))"
   ]
  },
  {
   "cell_type": "markdown",
   "metadata": {},
   "source": [
    "Как мы видим, истинное значение параметра $\\theta$ чаще попадает в теоретический доверительный интервал, чем в доверительные интервалы на основе бутстрэпа."
   ]
  },
  {
   "cell_type": "code",
   "execution_count": null,
   "metadata": {},
   "outputs": [],
   "source": []
  },
  {
   "cell_type": "markdown",
   "metadata": {},
   "source": [
    "**Упражнение 6** В файле Banner_small.npy даны две выборки из распределения Бернулли. Они соответствуют кликам по двум рекламным баннерам в Интернете. Постройте доверительные интервалы для частоты кликов (то есть параметра \"успеха\"). Какой из изученный вариантов доверительных интервалов лучше применять в этой задаче? Как думаете, можно ли сказать, что один из баннеров лучше, чем другой? Если да, то с какой вероятностью? Проверьте свой вывод на выборке большего размера, которая записана в файл Banner_large.npy"
   ]
  },
  {
   "cell_type": "code",
   "execution_count": 49,
   "metadata": {},
   "outputs": [],
   "source": [
    "import numpy as np\n",
    "import statsmodels.stats.proportion as st"
   ]
  },
  {
   "cell_type": "code",
   "execution_count": 50,
   "metadata": {},
   "outputs": [],
   "source": [
    "np.random.seed(123)"
   ]
  },
  {
   "cell_type": "code",
   "execution_count": 59,
   "metadata": {},
   "outputs": [],
   "source": [
    "data_small = np.load('Banner_small.npy')"
   ]
  },
  {
   "cell_type": "code",
   "execution_count": 81,
   "metadata": {},
   "outputs": [
    {
     "name": "stdout",
     "output_type": "stream",
     "text": [
      "0.002 0.006\n"
     ]
    }
   ],
   "source": [
    "banner_a = data_small[0]\n",
    "banner_b = data_small[1]\n",
    "print(sum(banner_a)/len(banner_a), sum(banner_b)/len(banner_b))"
   ]
  },
  {
   "cell_type": "code",
   "execution_count": 60,
   "metadata": {},
   "outputs": [],
   "source": [
    "alpha = 0.05"
   ]
  },
  {
   "cell_type": "code",
   "execution_count": 73,
   "metadata": {},
   "outputs": [
    {
     "name": "stdout",
     "output_type": "stream",
     "text": [
      "Асимптотический доверительный интервал на основе ЦПТ равен:\n",
      "   - для баннера \"a\"  (0.0, 0.005916006079184627)\n",
      "   - для баннера \"b\"  (0.0, 0.012769115216425226)\n"
     ]
    }
   ],
   "source": [
    "# Асимптотический доверительный интервал на основе ЦПТ\n",
    "\n",
    "ci_normal_a = st.proportion_confint(sum(banner_a), banner_a.size, alpha, method = 'normal')\n",
    "ci_normal_b = st.proportion_confint(sum(banner_b), banner_b.size, alpha, method = 'normal')\n",
    "print('Асимптотический доверительный интервал на основе ЦПТ равен:')\n",
    "print('   - для баннера \"a\" ', ci_normal_a)\n",
    "print('   - для баннера \"b\" ', ci_normal_b)"
   ]
  },
  {
   "cell_type": "code",
   "execution_count": 74,
   "metadata": {},
   "outputs": [
    {
     "name": "stdout",
     "output_type": "stream",
     "text": [
      "Доверительный интервал Уилсона равен:\n",
      "   - для баннера \"a\"  (0.00035313639455927543, 0.01124070670514676)\n",
      "   - для баннера \"b\"  (0.002042596271960238, 0.017490252104053382)\n"
     ]
    }
   ],
   "source": [
    "# Доверительный интервал Уилсона\n",
    "\n",
    "ci_wilson_a = st.proportion_confint(sum(banner_a), banner_a.size, alpha, method = 'wilson')\n",
    "ci_wilson_b = st.proportion_confint(sum(banner_b), banner_b.size, alpha, method = 'wilson')\n",
    "print('Доверительный интервал Уилсона равен:')\n",
    "print('   - для баннера \"a\" ', ci_wilson_a)\n",
    "print('   - для баннера \"b\" ', ci_wilson_b)"
   ]
  },
  {
   "cell_type": "markdown",
   "metadata": {},
   "source": [
    "В случае с относительно небольшим количеством наблюдений (в данном случае их по 500 на каждый баннер) и, к тому же, при условии, что значение вероятности успеха близко к нулю, предпочтительным является использование доверительного интеравала Уилсона. Он более устойчив к подобным ситуациям, и позволяет получить более надежные (близкие к истинному значению параметра) оценки.\n",
    "\n",
    "При помощи арифметического среднего можно оценить вероятность успеха для баннера \"а\" в 0.002, а вероятность успеха для баннера \"b\" - в 0.006. Как видно, вероятность успеха для баннера \"b\" выше. Но с учетом того, что размеры выборок относительно небольшие и что сами значения вероятностей (оценок) очень близки к нулю, говорить с какой-то уверенностью о том, что баннер \"b\" лучше баннера \"a\" все же сложно."
   ]
  },
  {
   "cell_type": "code",
   "execution_count": null,
   "metadata": {},
   "outputs": [],
   "source": []
  },
  {
   "cell_type": "markdown",
   "metadata": {},
   "source": [
    "Проверим наши выводы на выборках большего размера"
   ]
  },
  {
   "cell_type": "code",
   "execution_count": 75,
   "metadata": {},
   "outputs": [],
   "source": [
    "data_large = np.load('Banner_large.npy')"
   ]
  },
  {
   "cell_type": "code",
   "execution_count": 82,
   "metadata": {},
   "outputs": [
    {
     "name": "stdout",
     "output_type": "stream",
     "text": [
      "0.00547 0.00645\n"
     ]
    }
   ],
   "source": [
    "a_large = data_large[0]\n",
    "b_large = data_large[1]\n",
    "print(sum(a_large)/len(a_large), sum(b_large)/len(b_large))"
   ]
  },
  {
   "cell_type": "code",
   "execution_count": 85,
   "metadata": {},
   "outputs": [
    {
     "name": "stdout",
     "output_type": "stream",
     "text": [
      "Асимптотический доверительный интервал на основе ЦПТ равен:\n",
      "   - для баннера \"a\"  (0.005012858448137027, 0.005927141551862973)\n",
      "   - для баннера \"b\"  (0.005953838785243252, 0.006946161214756748)\n"
     ]
    }
   ],
   "source": [
    "# Асимптотический доверительный интервал на основе ЦПТ\n",
    "\n",
    "ci_normal_a_l = st.proportion_confint(sum(a_large), a_large.size, alpha, method = 'normal')\n",
    "ci_normal_b_l = st.proportion_confint(sum(b_large), b_large.size, alpha, method = 'normal')\n",
    "print('Асимптотический доверительный интервал на основе ЦПТ равен:')\n",
    "print('   - для баннера \"a\" ', ci_normal_a_l)\n",
    "print('   - для баннера \"b\" ', ci_normal_b_l)"
   ]
  },
  {
   "cell_type": "code",
   "execution_count": 86,
   "metadata": {},
   "outputs": [
    {
     "name": "stdout",
     "output_type": "stream",
     "text": [
      "Доверительный интервал Уилсона равен:\n",
      "   - для баннера \"a\"  (0.00502901983248579, 0.005948973040645592)\n",
      "   - для баннера \"b\"  (0.00597018712933124, 0.00696773045409948)\n"
     ]
    }
   ],
   "source": [
    "# Доверительный интервал Уилсона\n",
    "\n",
    "ci_wilson_a_l = st.proportion_confint(sum(a_large), a_large.size, alpha, method = 'wilson')\n",
    "ci_wilson_b_l = st.proportion_confint(sum(b_large), b_large.size, alpha, method = 'wilson')\n",
    "print('Доверительный интервал Уилсона равен:')\n",
    "print('   - для баннера \"a\" ', ci_wilson_a_l)\n",
    "print('   - для баннера \"b\" ', ci_wilson_b_l)"
   ]
  },
  {
   "cell_type": "markdown",
   "metadata": {},
   "source": [
    "Как мы видим, в случае с выборками существенно большего размера оба доверительных интервала дают очень похожий результат. При этом видно, что оценка параметра для баннера \"b\" лежит в интервале, сдвинутом вправо относительно интервала для баннера \"a\" почти на 0.001. Это говорит о том, что вероятность успеха в случае с баннером \"b\" скорее всего выше, чем в случае с баннером \"a\"."
   ]
  },
  {
   "cell_type": "code",
   "execution_count": null,
   "metadata": {},
   "outputs": [],
   "source": []
  }
 ],
 "metadata": {
  "kernelspec": {
   "display_name": "Python 3",
   "language": "python",
   "name": "python3"
  },
  "language_info": {
   "codemirror_mode": {
    "name": "ipython",
    "version": 3
   },
   "file_extension": ".py",
   "mimetype": "text/x-python",
   "name": "python",
   "nbconvert_exporter": "python",
   "pygments_lexer": "ipython3",
   "version": "3.7.6"
  }
 },
 "nbformat": 4,
 "nbformat_minor": 4
}
