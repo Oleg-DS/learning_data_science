{
 "cells": [
  {
   "cell_type": "markdown",
   "metadata": {},
   "source": [
    "## Проверка однородности. Критерий хи-квадрат"
   ]
  },
  {
   "cell_type": "markdown",
   "metadata": {},
   "source": [
    "Посмотрим, как применять критерии хи-квадрат для проверки однородности независимых выборок."
   ]
  },
  {
   "cell_type": "code",
   "execution_count": null,
   "metadata": {},
   "outputs": [],
   "source": [
    "# как обычно, начнем с импорта нужных библиотек\n",
    "import numpy as np\n",
    "import pandas as pd\n",
    "from scipy import stats\n",
    "import matplotlib.pyplot as plt\n",
    "%matplotlib inline"
   ]
  },
  {
   "cell_type": "code",
   "execution_count": null,
   "metadata": {},
   "outputs": [],
   "source": [
    "# и зафиксируем seed\n",
    "np.random.seed(123)"
   ]
  },
  {
   "cell_type": "markdown",
   "metadata": {},
   "source": [
    "**Задача.** Перед вами результаты медицинских исследований. Из 1500 мужчин, испытывающих лекарство, выздоровели 700, из 210 не принимавших выздоровели 80. Из 220 принимавших женщин — 150, из 680 не принимавших — 400. Проверить, влияет ли лекарство на мужчин? На женщин? На людей обоих полов?"
   ]
  },
  {
   "cell_type": "markdown",
   "metadata": {},
   "source": [
    "Запишем аккуратно данные. Пусть $A$ — принимавшие лекарство, $\\overline{A}$ — не принимавшие лекарство, $B$ — выздоровевшие, $\\overline{B}$ — не выздоровевшие."
   ]
  },
  {
   "cell_type": "markdown",
   "metadata": {},
   "source": [
    "<!--<img width=\"60%\" src=\"pics/pic2.png\">-->\n",
    "<table>\n",
    "<tr><td>\n",
    "    \n",
    "|Мужчины| $B$ |  $\\overline{B}$|\n",
    "|--|--|--|\n",
    "|$A$| 700 | 800 |\n",
    "|$\\overline{A}$| 80 | 130 |\n",
    "\n",
    "</td><td>\n",
    "    \n",
    "|Женщины| $B$ |  $\\overline{B}$|\n",
    "|--|--|--|\n",
    "|$A$| 150 | 70 |\n",
    "|$\\overline{A}$| 400 | 280 |\n",
    "\n",
    "</td><td>\n",
    "\n",
    "|Вместе| $B$ |  $\\overline{B}$|\n",
    "|--|--|--|\n",
    "|$A$| 850 | 870 |\n",
    "|$\\overline{A}$| 480 | 410 |\n",
    "\n",
    "</td></tr> </table>"
   ]
  },
  {
   "cell_type": "code",
   "execution_count": null,
   "metadata": {},
   "outputs": [],
   "source": [
    "# перепишем данные \n",
    "\n",
    "men = np.array([[700,800],[80,130]])\n",
    "women = np.array([[150,70],[400,280]])\n",
    "both = men + women"
   ]
  },
  {
   "cell_type": "markdown",
   "metadata": {},
   "source": [
    "### Есть ли эффект от лекарства у мужчин? "
   ]
  },
  {
   "cell_type": "markdown",
   "metadata": {},
   "source": [
    "Заметим, что среди принимавших лекарство мужчин доля выздоровевших больше, чем среди мужчин, не принимавших лекарство:\n",
    "\n",
    "$$\\frac{700}{700 + 800} \\approx 0.467 \\qquad > \\qquad 0.381 \\approx \\frac{80}{80 + 130}.$$\n",
    "  \n",
    "Проверим, значимо ли это различие."
   ]
  },
  {
   "cell_type": "code",
   "execution_count": null,
   "metadata": {},
   "outputs": [],
   "source": [
    "# можно реализовать криетрий вручную \n",
    "\n",
    "n = np.sum(men) # количество испытуемых\n",
    "n1,n2 = np.sum(men,axis=1) # количество испытуемых, принимавших и не принимавших лекарство\n",
    "p = np.sum(men,axis=0)/n # вероятности попасть в (B) и (not B)\n",
    "exmen = np.array([p*n1,p*n2]) # ожидаемые количества в каждой ячейке\n",
    "\n",
    "statistic = np.sum((men - exmen)**2/exmen)\n",
    "pvalue = 1-stats.chi2.cdf(statistic, df=1)\n",
    "\n",
    "print(\"statistic = \", statistic)\n",
    "print(\"p-value = \", pvalue)"
   ]
  },
  {
   "cell_type": "code",
   "execution_count": null,
   "metadata": {},
   "outputs": [],
   "source": [
    "# второй спобоб реализации \n",
    "\n",
    "stats.chi2_contingency(men, correction=False)"
   ]
  },
  {
   "cell_type": "markdown",
   "metadata": {},
   "source": [
    "Критерий хи-квадрат признал различие значимым на уровне $\\approx 2\\%$."
   ]
  },
  {
   "cell_type": "markdown",
   "metadata": {},
   "source": [
    "### Есть ли эффект от лекарства у женщин? "
   ]
  },
  {
   "cell_type": "markdown",
   "metadata": {},
   "source": [
    "Аналогично, среди принимавших лекарство женщин доля выздоровевших больше, чем среди женщин, не принимавших лекарство:\n",
    "\n",
    "$$\\frac{150}{150 + 70} \\approx 0.682 \\qquad > \\qquad 0.588 \\approx \\frac{400}{400 + 280}.$$\n",
    "  \n",
    "Проверим, значимо ли это различие."
   ]
  },
  {
   "cell_type": "code",
   "execution_count": null,
   "metadata": {},
   "outputs": [],
   "source": [
    "stats.chi2_contingency(women)"
   ]
  },
  {
   "cell_type": "markdown",
   "metadata": {},
   "source": [
    "Критерий хи-квадрат признал различие значимым на уровне $\\approx 2\\%$."
   ]
  },
  {
   "cell_type": "markdown",
   "metadata": {},
   "source": [
    "### Есть ли эффект от лекарства у мужчин и женщин вместе? "
   ]
  },
  {
   "cell_type": "markdown",
   "metadata": {},
   "source": [
    "Как это ни странно, из таблицы с объединенными результатами следует, что доля выздоровевших больше среди тех людей, которые лекарство **не принимали**:\n",
    "\n",
    "$$\\frac{850}{850+870} \\approx 0.494 \\qquad < \\qquad 0.539 \\approx \\frac{480}{480+410}.$$\n",
    "  \n",
    "Проверим, значимо ли это различие."
   ]
  },
  {
   "cell_type": "code",
   "execution_count": null,
   "metadata": {},
   "outputs": [],
   "source": [
    "stats.chi2_contingency(both)"
   ]
  },
  {
   "cell_type": "markdown",
   "metadata": {},
   "source": [
    "Критерий хи-квадрат признал различие значимым на уровне $\\approx 3.2\\%$."
   ]
  },
  {
   "cell_type": "markdown",
   "metadata": {},
   "source": [
    "### Причина парадокса"
   ]
  },
  {
   "cell_type": "markdown",
   "metadata": {},
   "source": [
    "Причина парадокса заключается в непропорциональном представительстве в разных категориях: мужчины выздоравливают\n",
    "хуже, но лекарство испытывалось в основном на них."
   ]
  },
  {
   "cell_type": "markdown",
   "metadata": {},
   "source": [
    "На абстрактном уровне речь идет о следующем: из неравенств\n",
    "    \n",
    "$$\\frac{A_1}{A_1+B_1} \\ge \\frac{C_1}{C_1+D_1}\\quad\\text{и}\\quad \\frac{A_2}{A_2+B_2} \\ge \\frac{C_2}{C_2+D_2}$$\n",
    "\n",
    "иногда делается поспешный вывод о справедливости неравенства\n",
    "\n",
    "$$\\frac{A_1+A_2}{A_1+B_1 + A_2+B_2} \\ge \\frac{C_1+C_2}{C_1+D_1+C_2+D_2}$$\n",
    "\n",
    "к чему нет никаких предпосылок."
   ]
  },
  {
   "cell_type": "markdown",
   "metadata": {},
   "source": [
    "Г. Секей пишет: «Аналогично, новое лекарство может оказаться эффективным в каждом из десяти различных госпиталей, но объединение результатов укажет на то, что это лекарство либо бесполезно, либо вредно»."
   ]
  },
  {
   "cell_type": "markdown",
   "metadata": {},
   "source": [
    "Кроме того, число мужчин (210), не принимавших лекарство, недостаточно велико: согласно таблице, приведенной в книге\n",
    "Дж. Флейс «Статистические методы для изучения таблиц долей и пропорций», вероятность ошибки II рода, для таких данных\n",
    "равна $50\\%$. Чтобы обеспечить ошибку второго рода $10\\%$, необходимо иметь не менее 475 пациентов в этой категории."
   ]
  },
  {
   "cell_type": "markdown",
   "metadata": {},
   "source": [
    "Этот пример показывает, что к выводам, основанным на применении критерия хи-квадрат, следует относиться с осторожностью."
   ]
  }
 ],
 "metadata": {
  "kernelspec": {
   "display_name": "Python 3",
   "language": "python",
   "name": "python3"
  },
  "language_info": {
   "codemirror_mode": {
    "name": "ipython",
    "version": 3
   },
   "file_extension": ".py",
   "mimetype": "text/x-python",
   "name": "python",
   "nbconvert_exporter": "python",
   "pygments_lexer": "ipython3",
   "version": "3.7.4"
  }
 },
 "nbformat": 4,
 "nbformat_minor": 2
}
