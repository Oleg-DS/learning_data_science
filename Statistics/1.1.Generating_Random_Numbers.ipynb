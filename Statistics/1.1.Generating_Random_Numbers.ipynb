{
 "cells": [
  {
   "cell_type": "markdown",
   "metadata": {},
   "source": [
    "## Генерация случайных величин"
   ]
  },
  {
   "cell_type": "markdown",
   "metadata": {},
   "source": [
    "Python (и все другое програмное обеспечение) генерирует случайные числа с помощью формул, так что они не на самом деле случайные, а, как говорят, псевдослучайные. Этот способ удобен для большинства приложений. Генерировать случайные числа мы будем с помощью numpy."
   ]
  },
  {
   "cell_type": "code",
   "execution_count": null,
   "metadata": {},
   "outputs": [],
   "source": [
    "import numpy as np"
   ]
  },
  {
   "cell_type": "markdown",
   "metadata": {},
   "source": [
    "### Seed"
   ]
  },
  {
   "cell_type": "markdown",
   "metadata": {},
   "source": [
    "Для того, чтобы каждый раз при использовании генератора псевдослучайных чисел получать идентичные последовательности, используется функция set.seed (от set - задать, установить, и seed - начальное число). Как следует из названия, эта функция фиксирует число, служащее начальной точкой для запуска алгоритма генерации псевдослучайных чисел. В качестве аргумента функции указывают любое целое число (не важно, какое именно). "
   ]
  },
  {
   "cell_type": "markdown",
   "metadata": {},
   "source": [
    "* **np.random.seed(<число>)** —\n",
    "настраивает генератор случайных чисел на новую последовательность. Если данная функция в программе не вызывается, по умолчанию используется системное время. "
   ]
  },
  {
   "cell_type": "code",
   "execution_count": null,
   "metadata": {},
   "outputs": [],
   "source": [
    "np.random.seed(1) # Зафиксируем seed\n",
    "print(np.random.rand()) # первое случайное число\n",
    "print(np.random.rand()) # второе случайное число; оно будет отличаться от предыдущего"
   ]
  },
  {
   "cell_type": "code",
   "execution_count": null,
   "metadata": {},
   "outputs": [],
   "source": [
    "# Но если мы обновим seed, то наша случайная последовательность будет генерироваться <<сначала>>\n",
    "np.random.seed(1) \n",
    "print(np.random.rand())\n",
    "print(np.random.rand())"
   ]
  },
  {
   "cell_type": "markdown",
   "metadata": {},
   "source": [
    "### Равномерное распределение"
   ]
  },
  {
   "cell_type": "markdown",
   "metadata": {},
   "source": [
    "* **np.random.rand($\\,\\mathbf{d_0, d_1, \\ldots, d_n}$)**  — генерирует массив размера $d_0\\times d_1 \\times \\ldots \\times d_n$ из равномерно распределенных на [0,1] случайных величин."
   ]
  },
  {
   "cell_type": "code",
   "execution_count": null,
   "metadata": {},
   "outputs": [],
   "source": [
    "np.random.rand() # просто одно число"
   ]
  },
  {
   "cell_type": "code",
   "execution_count": null,
   "metadata": {},
   "outputs": [],
   "source": [
    "np.random.rand(10) # одномерный массив из 10 чисел"
   ]
  },
  {
   "cell_type": "code",
   "execution_count": null,
   "metadata": {},
   "outputs": [],
   "source": [
    "np.random.rand(5,2) # двумерный массив размера [5,2]"
   ]
  },
  {
   "cell_type": "markdown",
   "metadata": {},
   "source": [
    "Для генерации из равномерного распределения на произвольном интервале можно использовать функцию:   \n",
    "* **np.random.uniform([low, high, size])** — герирует массив размера [size] из равномерного распределения на $[low,high]$.\n",
    "\n",
    "П.С. Альтернативно можно сгенерировать равномерно распределенные на $[0,1]$ случайные величины и применить к ним линейное преобразование"
   ]
  },
  {
   "cell_type": "code",
   "execution_count": null,
   "metadata": {},
   "outputs": [],
   "source": [
    "np.random.uniform(5,10, size=[5,2])"
   ]
  },
  {
   "cell_type": "markdown",
   "metadata": {},
   "source": [
    "Все следующие фукнции герерируют одномерный массив размера [size] из равномерно распределенных на [0,1] случайных величин. Но лучше пользоваться функциями **np.random.rand** или **np.random.uniform**, они чаще используются исследователями и программистами.\n",
    "\n",
    "* **np.random.random_sample([size])**  \n",
    "* **np.random.random([size])**  \n",
    "* **np.random.ranf([size])**  \n",
    "* **np.random.sample([size])**    "
   ]
  },
  {
   "cell_type": "code",
   "execution_count": null,
   "metadata": {},
   "outputs": [],
   "source": [
    "np.random.ranf(10)"
   ]
  },
  {
   "cell_type": "markdown",
   "metadata": {},
   "source": [
    "Следующие функции генерируют случайные числа из равномерного распределения на целых числах:  \n",
    "* **np.random.randint(low[, high, size, dtype])** — здесь вернхнее значение не включается в диапазон.  \n",
    "* **np.random.random_integers(low[, high, size])** — здесь вернхнее значение включается в диапазон (но эта функция устарела, лучше использовать предыдущую).  "
   ]
  },
  {
   "cell_type": "code",
   "execution_count": null,
   "metadata": {},
   "outputs": [],
   "source": [
    "np.random.randint(-1, 10, size = [2,10])"
   ]
  },
  {
   "cell_type": "code",
   "execution_count": null,
   "metadata": {},
   "outputs": [],
   "source": [
    "np.random.random_integers(-1, 10, size= [2,10])"
   ]
  },
  {
   "cell_type": "markdown",
   "metadata": {},
   "source": [
    "### Случайные перестановки и случайный выбор"
   ]
  },
  {
   "cell_type": "markdown",
   "metadata": {},
   "source": [
    "Везде далее в качестве **x** можно использовать различные объекты: строку, список, кортеж..."
   ]
  },
  {
   "cell_type": "markdown",
   "metadata": {},
   "source": [
    "* **np.random.shuffle(x)** — случайная перестановка последовательности **x** (меняет сам **x**, ничего не возвращает).  \n",
    "* **np.random.permutation(x)** — случайная перестановка последовательности **x** (не меняет **x**, возвращает перестановку).\n"
   ]
  },
  {
   "cell_type": "code",
   "execution_count": null,
   "metadata": {},
   "outputs": [],
   "source": [
    "# для np.random.permutation следующий код имеет смысл\n",
    "a = np.arange(5)\n",
    "b = np.random.permutation(a)\n",
    "print(a)\n",
    "print(b)"
   ]
  },
  {
   "cell_type": "code",
   "execution_count": null,
   "metadata": {},
   "outputs": [],
   "source": [
    "# для np.random.shuffle — нет, так как мы поменяем a, и ничего не присвоим b\n",
    "a = np.arange(5)\n",
    "b = np.random.shuffle(a) \n",
    "print(a)\n",
    "print(b)"
   ]
  },
  {
   "cell_type": "markdown",
   "metadata": {},
   "source": [
    "* **random.choince(x)** — возвращает случайный элемент из последовательности **x**."
   ]
  },
  {
   "cell_type": "code",
   "execution_count": null,
   "metadata": {},
   "outputs": [],
   "source": [
    "np.random.choice([1,2,3,7,0,88])"
   ]
  },
  {
   "cell_type": "markdown",
   "metadata": {},
   "source": [
    "### Нормальное распределение"
   ]
  },
  {
   "cell_type": "markdown",
   "metadata": {},
   "source": [
    "* **np.random.randn($\\,\\mathbf{d_0, d_1, \\ldots, d_n}$)**  — генерирует массив размера $d_0\\times d_1 \\times \\ldots \\times d_n$ из стандартного нормального распределения $\\mathcal{N}(0,1)$. "
   ]
  },
  {
   "cell_type": "code",
   "execution_count": null,
   "metadata": {},
   "outputs": [],
   "source": [
    "np.random.randn() # генерируем одно число"
   ]
  },
  {
   "cell_type": "code",
   "execution_count": null,
   "metadata": {},
   "outputs": [],
   "source": [
    "np.random.randn(2,3) # генерируем массив нужного размера"
   ]
  },
  {
   "cell_type": "markdown",
   "metadata": {},
   "source": [
    "Следующая функция делает то же самое, но у нее немного другой синтаксис. Лучше пользоваться **np.random.randn**.   \n",
    "* **np.random.standard_normal([size])** — генерирует массив размера [size] из стандартного нормального распределения $\\mathcal{N}(0,1)$.\n",
    "\n"
   ]
  },
  {
   "cell_type": "code",
   "execution_count": null,
   "metadata": {},
   "outputs": [],
   "source": [
    "np.random.standard_normal([2,5])"
   ]
  },
  {
   "cell_type": "markdown",
   "metadata": {},
   "source": [
    "Для нормального распредления с произвольными параметрами можно использовать следующую функцию:   \n",
    "* **np.random.normal([loc, scale, size])** — генерируют массив размера [size] из нормального распределения $\\mathcal{N}\\bigl(loc,(scale)^2\\bigr)$."
   ]
  },
  {
   "cell_type": "code",
   "execution_count": null,
   "metadata": {},
   "outputs": [],
   "source": [
    "np.random.normal(5,2, size = [5,2])"
   ]
  },
  {
   "cell_type": "markdown",
   "metadata": {},
   "source": [
    "Чтобы сгенерировать многомерное нормальное распределение, можно воспользоваться следующей функцией:\n",
    "* **np.random.multivariate_normal(mean, cov, [size])** — генерируют массив размера [size] из многомерного нормального распределения $\\mathcal{N}(mean,cov)$."
   ]
  },
  {
   "cell_type": "code",
   "execution_count": null,
   "metadata": {},
   "outputs": [],
   "source": [
    "d = 5 \n",
    "mean = np.ones(d)\n",
    "cov = 5*np.eye(d)\n",
    "np.random.multivariate_normal(mean, cov, size = 3) "
   ]
  },
  {
   "cell_type": "markdown",
   "metadata": {},
   "source": [
    "### Другие распределения"
   ]
  },
  {
   "cell_type": "markdown",
   "metadata": {},
   "source": [
    "В качестве примера приведем еще фукции для распределений, которые мы упоминали в курсе по теории вероятностей:\n",
    "* **np.random.binomial(n, p[, size])** — биномиальное распределение  \n",
    "* **np.random.exponential([scale, size])** — экспоненциальное распределение  \n",
    "* **np.random.poisson([lam, size])** — распределение Пуассона  \n",
    "* **np.random.standard_cauchy([size])** — распределение Коши  "
   ]
  },
  {
   "cell_type": "markdown",
   "metadata": {},
   "source": [
    "Полный список распределений можно посмотреть на: https://docs.scipy.org/doc/numpy-1.15.0/reference/routines.random.html"
   ]
  }
 ],
 "metadata": {
  "kernelspec": {
   "display_name": "Python 3",
   "language": "python",
   "name": "python3"
  },
  "language_info": {
   "codemirror_mode": {
    "name": "ipython",
    "version": 3
   },
   "file_extension": ".py",
   "mimetype": "text/x-python",
   "name": "python",
   "nbconvert_exporter": "python",
   "pygments_lexer": "ipython3",
   "version": "3.7.4"
  }
 },
 "nbformat": 4,
 "nbformat_minor": 2
}
