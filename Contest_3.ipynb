{
 "cells": [
  {
   "cell_type": "code",
   "execution_count": 2,
   "metadata": {},
   "outputs": [
    {
     "name": "stdout",
     "output_type": "stream",
     "text": [
      "push 122\n",
      "ok\n",
      "back\n",
      "122\n",
      "pop\n",
      "122\n",
      "sizw\n",
      "size\n",
      "0\n",
      "exit\n",
      "bye\n"
     ]
    }
   ],
   "source": [
    "class Stack:\n",
    "    def __init__(self):\n",
    "        self.stk = []\n",
    "    \n",
    "    def push(self, value):\n",
    "        self.stk.append(value)\n",
    "        print('ok')\n",
    "        \n",
    "    def pop(self):\n",
    "        print(self.stk.pop() if self.stk else 'error')\n",
    "        \n",
    "    def back(self):\n",
    "        print(self.stk[-1] if self.stk else 'error')\n",
    "    \n",
    "    def size(self):\n",
    "        print(len(self.stk))\n",
    "    \n",
    "    def clear(self):\n",
    "        self.stk.clear()\n",
    "        print('ok')\n",
    "        \n",
    "    def exit(self):\n",
    "        print('bye')\n",
    "        return('exit')\n",
    "\n",
    "\n",
    "\n",
    "stk = Stack()\n",
    "flag = None\n",
    "\n",
    "while flag == None:\n",
    "    command = input()\n",
    "    \n",
    "    if 'push' in command:\n",
    "        command, value = command.split()\n",
    "        flag = stk.push(int(value))\n",
    "    \n",
    "    if command == 'pop':\n",
    "        flag = stk.pop()\n",
    "    \n",
    "    if command == 'back':\n",
    "        flag = stk.back()\n",
    "    \n",
    "    if command == 'size':\n",
    "        flag = stk.size()\n",
    "        \n",
    "    if command == 'clear':\n",
    "        flag = stk.clear()\n",
    "    \n",
    "    if command == 'exit':\n",
    "        flag = stk.exit()"
   ]
  },
  {
   "cell_type": "code",
   "execution_count": 8,
   "metadata": {},
   "outputs": [
    {
     "name": "stdout",
     "output_type": "stream",
     "text": [
      "([{}[{}]{})]\n",
      "yes\n"
     ]
    }
   ],
   "source": [
    "def sqn_finder(bracket, sqn):\n",
    "    if not sqn:\n",
    "        return('yes')\n",
    "    \n",
    "    if bracket == '(':\n",
    "        if sqn[0] == ')':\n",
    "            sqn.pop(0)\n",
    "            bracket = sqn.pop(0)\n",
    "            sqn_finder(bracket, sqn)\n",
    "        if sqn[0] != ')':\n",
    "            \n",
    "            \n",
    "            \n",
    "\n",
    "sqn = [i for i in input()[::-1]]\n",
    "bracket = sqn.pop(0)\n",
    "ans = sqn_finder(bracket, sqn)\n",
    "print(ans)"
   ]
  },
  {
   "cell_type": "code",
   "execution_count": 11,
   "metadata": {},
   "outputs": [
    {
     "ename": "IndexError",
     "evalue": "pop from empty list",
     "output_type": "error",
     "traceback": [
      "\u001b[1;31m---------------------------------------------------------------------------\u001b[0m",
      "\u001b[1;31mIndexError\u001b[0m                                Traceback (most recent call last)",
      "\u001b[1;32m<ipython-input-11-03193e0bc166>\u001b[0m in \u001b[0;36m<module>\u001b[1;34m\u001b[0m\n\u001b[0;32m      1\u001b[0m \u001b[0mtest\u001b[0m \u001b[1;33m=\u001b[0m \u001b[1;33m[\u001b[0m\u001b[1;33m]\u001b[0m\u001b[1;33m\u001b[0m\u001b[1;33m\u001b[0m\u001b[0m\n\u001b[1;32m----> 2\u001b[1;33m \u001b[0mt\u001b[0m \u001b[1;33m=\u001b[0m \u001b[0mtest\u001b[0m\u001b[1;33m.\u001b[0m\u001b[0mpop\u001b[0m\u001b[1;33m(\u001b[0m\u001b[1;36m0\u001b[0m\u001b[1;33m)\u001b[0m\u001b[1;33m\u001b[0m\u001b[1;33m\u001b[0m\u001b[0m\n\u001b[0m\u001b[0;32m      3\u001b[0m \u001b[0mprint\u001b[0m\u001b[1;33m(\u001b[0m\u001b[0mt\u001b[0m\u001b[1;33m)\u001b[0m\u001b[1;33m\u001b[0m\u001b[1;33m\u001b[0m\u001b[0m\n",
      "\u001b[1;31mIndexError\u001b[0m: pop from empty list"
     ]
    }
   ],
   "source": [
    "test = []\n",
    "t = test.pop(0)\n",
    "print(t)"
   ]
  },
  {
   "cell_type": "code",
   "execution_count": null,
   "metadata": {},
   "outputs": [],
   "source": []
  }
 ],
 "metadata": {
  "kernelspec": {
   "display_name": "Python 3",
   "language": "python",
   "name": "python3"
  },
  "language_info": {
   "codemirror_mode": {
    "name": "ipython",
    "version": 3
   },
   "file_extension": ".py",
   "mimetype": "text/x-python",
   "name": "python",
   "nbconvert_exporter": "python",
   "pygments_lexer": "ipython3",
   "version": "3.7.6"
  }
 },
 "nbformat": 4,
 "nbformat_minor": 4
}
