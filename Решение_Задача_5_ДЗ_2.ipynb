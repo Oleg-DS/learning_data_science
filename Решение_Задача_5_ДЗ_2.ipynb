{
 "cells": [
  {
   "cell_type": "markdown",
   "metadata": {},
   "source": [
    "## Задача 5 Подсчет слов\n",
    "\n",
    "Давайте теперь поработаем с настоящим файлом и действительно посчитаем в нем слова. Мы загрузим метаданные почтового сервера университета Мичигана. И попробуем найти, с какого адреса ушло больше всего писем."
   ]
  },
  {
   "cell_type": "markdown",
   "metadata": {},
   "source": [
    "По адресу http://www.py4inf.com/code/mbox.txt вы найдете данные о письмах, отправленных через почтовый сервер Университета Мичигана. Взгляните на текст, который там лежит. Блок с инфо о каждом письме, как видите, начинается с \"From \", после чего следует email-адрес. Ниже с помощью библиотеки requests мы вытащим этот текст с сайта и запишем его в переменную mbox."
   ]
  },
  {
   "cell_type": "code",
   "execution_count": 1,
   "metadata": {},
   "outputs": [],
   "source": [
    "# импортируем библиотеку для доступа к файлам в интернете\n",
    "import requests\n",
    "# в переменной mbox хранится текст для работы\n",
    "mbox = requests.get('http://www.py4inf.com/code/mbox.txt').text"
   ]
  },
  {
   "cell_type": "code",
   "execution_count": 4,
   "metadata": {},
   "outputs": [
    {
     "data": {
      "text/plain": [
       "['From stephen.marquard@uct.ac.za Sat Jan  5 09:14:16 2008',\n",
       " 'Return-Path: <postmaster@collab.sakaiproject.org>',\n",
       " 'Received: from murder (mail.umich.edu [141.211.14.90])',\n",
       " '\\t by frankenstein.mail.umich.edu (Cyrus v2.3.8) with LMTPA;',\n",
       " '\\t Sat, 05 Jan 2008 09:14:16 -0500']"
      ]
     },
     "execution_count": 4,
     "metadata": {},
     "output_type": "execute_result"
    }
   ],
   "source": [
    "# преобразуем наш текст в список, где каждый объект - это новая строка в файле \n",
    "# (они разбиты по символу переноса строки)\n",
    "\n",
    "all_lines = mbox.split('\\n')\n",
    "# Посмотрим, как это выглядит (вот первые 5 строк)\n",
    "all_lines[:5]"
   ]
  },
  {
   "cell_type": "markdown",
   "metadata": {},
   "source": [
    "Нам нужны только строки, начинающиеся с \"From \" – это те записи, где указан email-адрес. Надо понять, как достать сам email. В нулевой записи из all_lines как раз лежит email, на ней и будем тестировать."
   ]
  },
  {
   "cell_type": "code",
   "execution_count": 6,
   "metadata": {},
   "outputs": [
    {
     "data": {
      "text/plain": [
       "'From stephen.marquard@uct.ac.za Sat Jan  5 09:14:16 2008'"
      ]
     },
     "execution_count": 6,
     "metadata": {},
     "output_type": "execute_result"
    }
   ],
   "source": [
    "all_lines[0]"
   ]
  },
  {
   "cell_type": "markdown",
   "metadata": {},
   "source": [
    "Эту строку надо разбить по пробелам и тогда вторым элементом полученного списка будет email :)"
   ]
  },
  {
   "cell_type": "code",
   "execution_count": 7,
   "metadata": {},
   "outputs": [
    {
     "data": {
      "text/plain": [
       "['From', 'stephen.marquard@uct.ac.za', 'Sat', 'Jan', '5', '09:14:16', '2008']"
      ]
     },
     "execution_count": 7,
     "metadata": {},
     "output_type": "execute_result"
    }
   ],
   "source": [
    "all_lines[0].split()"
   ]
  },
  {
   "cell_type": "markdown",
   "metadata": {},
   "source": [
    "Класс! Теперь ту же операцию надо проделать для всех строк, которые начинаются с \"From \""
   ]
  },
  {
   "cell_type": "code",
   "execution_count": 8,
   "metadata": {},
   "outputs": [],
   "source": [
    "# собираем список всех email\n",
    "emails = []\n",
    "for line in all_lines:\n",
    "    if line.startswith('From '):\n",
    "        emails.append(line.split()[1])"
   ]
  },
  {
   "cell_type": "markdown",
   "metadata": {},
   "source": [
    "Теперь в нашем новом списке emails записаны все email'ы, причем каждый записан столько раз, сколько писем он отправил :) То есть если я отправил два письма, то email мой встретится дважды. Теперь я предлагаю создать словарь, где ключами будут email'ы, а значениями - то, сколько писем каждый из них отправил :) Сделаем это так: Сначала найдем уникальный набор email'ов (это будут ключи). Сделать это логично с помощью множества. А потом пройтись циклом по этому множеству и для каждого email'а будем находить количество вхождений этого email'a в список emails(это будет как раз кол-во отправленных им писем)"
   ]
  },
  {
   "cell_type": "code",
   "execution_count": 9,
   "metadata": {},
   "outputs": [
    {
     "name": "stdout",
     "output_type": "stream",
     "text": [
      "{'rjlowe@iupui.edu': 90, 'stuart.freeman@et.gatech.edu': 17, 'a.fish@lancaster.ac.uk': 14, 'bahollad@indiana.edu': 4, 'mmmay@indiana.edu': 161, 'ray@media.berkeley.edu': 32, 'antranig@caret.cam.ac.uk': 18, 'colin.clark@utoronto.ca': 1, 'stephen.marquard@uct.ac.za': 29, 'nuno@ufp.pt': 28, 'jimeng@umich.edu': 93, 'david.horwitz@uct.ac.za': 67, 'chmaurer@iupui.edu': 111, 'bkirschn@umich.edu': 27, 'john.ellis@rsmart.com': 8, 'jleasia@umich.edu': 2, 'wagnermr@iupui.edu': 44, 'tnguyen@iupui.edu': 6, 'arwhyte@umich.edu': 27, 'josrodri@iupui.edu': 28, 'csev@umich.edu': 19, 'dlhaines@umich.edu': 84, 'zqian@umich.edu': 195, 'aaronz@vt.edu': 110, 'lance@indiana.edu': 8, 'ktsao@stanford.edu': 12, 'ostermmg@whitman.edu': 17, 'zach.thomas@txstate.edu': 17, 'mbreuker@loi.nl': 9, 'ian@caret.cam.ac.uk': 96, 'jzaremba@unicon.net': 9, 'jlrenfro@ucdavis.edu': 1, 'ajpoland@iupui.edu': 48, 'ggolden@umich.edu': 8, 'ssmail@indiana.edu': 5, 'thoppaymallika@fhda.edu': 1, 'knoop@umich.edu': 5, 'hu2@iupui.edu': 7, 'kimsooil@bu.edu': 14, 'gopal.ramasammycook@gmail.com': 25, 'gjthomas@iupui.edu': 44, 'louis@media.berkeley.edu': 24, 'gbhatnag@umich.edu': 3, 'sgithens@caret.cam.ac.uk': 43, 'cwen@iupui.edu': 158, 'gsilver@umich.edu': 28}\n"
     ]
    }
   ],
   "source": [
    "emails_set = set(emails) # альтернативно считаем слова, создаем множество уникальных почтовых адресов\n",
    "emails_dict = {}\n",
    "for email in emails_set:\n",
    "    emails_dict[email] = emails.count(email) # для каждого почтового адреса считаем, сколько раз он встречается с помощью метода списка\n",
    "\n",
    "print(emails_dict)"
   ]
  },
  {
   "cell_type": "markdown",
   "metadata": {},
   "source": [
    "Остается в этом словаре найти email, для которого кол-во писем максимальное"
   ]
  },
  {
   "cell_type": "code",
   "execution_count": 11,
   "metadata": {},
   "outputs": [
    {
     "name": "stdout",
     "output_type": "stream",
     "text": [
      "Max value is 195 for zqian@umich.edu\n"
     ]
    }
   ],
   "source": [
    "# будем считать, что по умолчанию максимальное значение равно одному, потому что в нашем словаре \n",
    "# каждый email отправил минимум 1 письмо\n",
    "\n",
    "max_value = 1\n",
    "\n",
    "# значение максимальное ключа мы пока не знаем, поэтому создаем пустую переменную\n",
    "max_key = None\n",
    "\n",
    "for key, value in emails_dict.items():  # итерируемся по парам ключ-значение\n",
    "    if value > max_value:  # проверяем, больше ли значение, чем максимум\n",
    "        max_key = key  # обновляем ключ, если да\n",
    "        max_value = value  # обновляем значение\n",
    "if max_value == 1:  # если нет ни одного значения больше одного, давайте выведем эту информацию\n",
    "    print('No max value, all 1')\n",
    "else:\n",
    "    print('Max value is', max_value, 'for', max_key)"
   ]
  },
  {
   "cell_type": "markdown",
   "metadata": {},
   "source": [
    "Победа :)"
   ]
  },
  {
   "cell_type": "code",
   "execution_count": null,
   "metadata": {},
   "outputs": [],
   "source": []
  }
 ],
 "metadata": {
  "kernelspec": {
   "display_name": "Python 3",
   "language": "python",
   "name": "python3"
  },
  "language_info": {
   "codemirror_mode": {
    "name": "ipython",
    "version": 3
   },
   "file_extension": ".py",
   "mimetype": "text/x-python",
   "name": "python",
   "nbconvert_exporter": "python",
   "pygments_lexer": "ipython3",
   "version": "3.7.6"
  }
 },
 "nbformat": 4,
 "nbformat_minor": 4
}