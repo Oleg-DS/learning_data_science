{
  "nbformat": 4,
  "nbformat_minor": 0,
  "metadata": {
    "colab": {
      "name": "Dijkstra.ipynb",
      "provenance": []
    },
    "kernelspec": {
      "name": "python3",
      "display_name": "Python 3"
    }
  },
  "cells": [
    {
      "cell_type": "code",
      "metadata": {
        "id": "D7VbvefngBEM"
      },
      "source": [
        "from heapq import heappop, heappush\n",
        "\n",
        "\n",
        "def read_adjacency_list(vertices_count: int, edges_count: int):\n",
        "    adjacency_list = [[] for _ in range(vertices_count + 1)]\n",
        "    for _ in range(edges_count):\n",
        "        # Edges are weighted\n",
        "        from_vertex, to_vertex, weight = map(int, input().split())\n",
        "        # Edges are unordered\n",
        "        adjacency_list[from_vertex].append((to_vertex, weight))\n",
        "        adjacency_list[to_vertex].append((from_vertex, weight))\n",
        "\n",
        "    return adjacency_list\n",
        "\n",
        "\n",
        "def dijkstra(from_vertex: int, to_vertex: int, adjacency_list: list):\n",
        "    \"\"\"\n",
        "    Finds shortest path from from-vertex to to_vertex. If a path exists\n",
        "    returns the a tuple of best distrance and best path. Otherwise\n",
        "    returns None, None\n",
        "    \"\"\"\n",
        "\n",
        "    best_distances = [None] * len(adjacency_list)\n",
        "    paths_heap = [(0, from_vertex, None)]\n",
        "\n",
        "    while paths_heap:\n",
        "        distance, vertex, parent = heappop(paths_heap)\n",
        "\n",
        "        if best_distances[vertex] is None:\n",
        "\n",
        "            best_distances[vertex] = distance\n",
        "            parents[vertex] = parent\n",
        "\n",
        "            for adjacent_vertex, weight in adjacency_list[vertex]:\n",
        "                heappush(paths_heap, (distance + weight, adjacent_vertex, vertex))\n",
        "\n",
        "    return best_distances\n",
        "\n",
        "\n",
        "def main():\n",
        "    # Reading our input \n",
        "    vertices_count, edges_count = map(int, input().split())\n",
        "    adjacency_list = read_adjacency_list(vertices_count, edges_count)\n",
        "    from_vertex, to_vertex = map(int, input().split())\n",
        "\n",
        "    # Finding best distance and best path\n",
        "    best_distance, best_path = dijkstra(from_vertex, to_vertex, adjacency_list)\n",
        "\n",
        "    # Returning out answer \n",
        "    print(-1 if best_distance is None else best_distance)\n",
        "\n",
        "\n",
        "# This code is executed if and only if you run your script as\n",
        "# an entry point and no timporting it as a module\n",
        "if __name__ == '__main__':\n",
        "    main()\n"
      ],
      "execution_count": null,
      "outputs": []
    }
  ]
}