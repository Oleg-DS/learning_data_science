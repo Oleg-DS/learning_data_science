{
 "cells": [
  {
   "cell_type": "code",
   "execution_count": 11,
   "metadata": {},
   "outputs": [
    {
     "name": "stdout",
     "output_type": "stream",
     "text": [
      "size\n",
      "0\n",
      "push 1\n",
      "ok\n",
      "size\n",
      "1\n",
      "clear\n",
      "ok\n",
      "push 2\n",
      "ok\n",
      "pop\n",
      "2\n",
      "pop\n",
      "error\n"
     ]
    },
    {
     "ename": "KeyboardInterrupt",
     "evalue": "Interrupted by user",
     "output_type": "error",
     "traceback": [
      "\u001b[0;31m---------------------------------------------------------------------------\u001b[0m",
      "\u001b[0;31mKeyboardInterrupt\u001b[0m                         Traceback (most recent call last)",
      "\u001b[0;32m<ipython-input-11-f68d1d059868>\u001b[0m in \u001b[0;36m<module>\u001b[0;34m()\u001b[0m\n\u001b[1;32m     24\u001b[0m         \u001b[0;32melse\u001b[0m\u001b[0;34m:\u001b[0m\u001b[0;34m\u001b[0m\u001b[0m\n\u001b[1;32m     25\u001b[0m             \u001b[0mprint\u001b[0m\u001b[0;34m(\u001b[0m\u001b[0;34m'error'\u001b[0m\u001b[0;34m)\u001b[0m\u001b[0;34m\u001b[0m\u001b[0m\n\u001b[0;32m---> 26\u001b[0;31m     \u001b[0mcommand\u001b[0m \u001b[0;34m=\u001b[0m \u001b[0minput\u001b[0m\u001b[0;34m(\u001b[0m\u001b[0;34m)\u001b[0m\u001b[0;34m.\u001b[0m\u001b[0msplit\u001b[0m\u001b[0;34m(\u001b[0m\u001b[0;34m' '\u001b[0m\u001b[0;34m)\u001b[0m\u001b[0;34m\u001b[0m\u001b[0m\n\u001b[0m",
      "\u001b[0;32m~/anaconda3/lib/python3.7/site-packages/ipykernel/kernelbase.py\u001b[0m in \u001b[0;36mraw_input\u001b[0;34m(self, prompt)\u001b[0m\n\u001b[1;32m    861\u001b[0m             \u001b[0mself\u001b[0m\u001b[0;34m.\u001b[0m\u001b[0m_parent_ident\u001b[0m\u001b[0;34m,\u001b[0m\u001b[0;34m\u001b[0m\u001b[0m\n\u001b[1;32m    862\u001b[0m             \u001b[0mself\u001b[0m\u001b[0;34m.\u001b[0m\u001b[0m_parent_header\u001b[0m\u001b[0;34m,\u001b[0m\u001b[0;34m\u001b[0m\u001b[0m\n\u001b[0;32m--> 863\u001b[0;31m             \u001b[0mpassword\u001b[0m\u001b[0;34m=\u001b[0m\u001b[0;32mFalse\u001b[0m\u001b[0;34m,\u001b[0m\u001b[0;34m\u001b[0m\u001b[0m\n\u001b[0m\u001b[1;32m    864\u001b[0m         )\n\u001b[1;32m    865\u001b[0m \u001b[0;34m\u001b[0m\u001b[0m\n",
      "\u001b[0;32m~/anaconda3/lib/python3.7/site-packages/ipykernel/kernelbase.py\u001b[0m in \u001b[0;36m_input_request\u001b[0;34m(self, prompt, ident, parent, password)\u001b[0m\n\u001b[1;32m    902\u001b[0m             \u001b[0;32mexcept\u001b[0m \u001b[0mKeyboardInterrupt\u001b[0m\u001b[0;34m:\u001b[0m\u001b[0;34m\u001b[0m\u001b[0m\n\u001b[1;32m    903\u001b[0m                 \u001b[0;31m# re-raise KeyboardInterrupt, to truncate traceback\u001b[0m\u001b[0;34m\u001b[0m\u001b[0;34m\u001b[0m\u001b[0m\n\u001b[0;32m--> 904\u001b[0;31m                 \u001b[0;32mraise\u001b[0m \u001b[0mKeyboardInterrupt\u001b[0m\u001b[0;34m(\u001b[0m\u001b[0;34m\"Interrupted by user\"\u001b[0m\u001b[0;34m)\u001b[0m \u001b[0;32mfrom\u001b[0m \u001b[0;32mNone\u001b[0m\u001b[0;34m\u001b[0m\u001b[0m\n\u001b[0m\u001b[1;32m    905\u001b[0m             \u001b[0;32mexcept\u001b[0m \u001b[0mException\u001b[0m \u001b[0;32mas\u001b[0m \u001b[0me\u001b[0m\u001b[0;34m:\u001b[0m\u001b[0;34m\u001b[0m\u001b[0m\n\u001b[1;32m    906\u001b[0m                 \u001b[0mself\u001b[0m\u001b[0;34m.\u001b[0m\u001b[0mlog\u001b[0m\u001b[0;34m.\u001b[0m\u001b[0mwarning\u001b[0m\u001b[0;34m(\u001b[0m\u001b[0;34m\"Invalid Message:\"\u001b[0m\u001b[0;34m,\u001b[0m \u001b[0mexc_info\u001b[0m\u001b[0;34m=\u001b[0m\u001b[0;32mTrue\u001b[0m\u001b[0;34m)\u001b[0m\u001b[0;34m\u001b[0m\u001b[0m\n",
      "\u001b[0;31mKeyboardInterrupt\u001b[0m: Interrupted by user"
     ]
    }
   ],
   "source": [
    "stack = []\n",
    "command = input().split(' ')\n",
    "while True:\n",
    "    \n",
    "    if command[0] == 'push':\n",
    "        stack.append(command[1])\n",
    "        print('ok')\n",
    "    if command[0] == 'size':\n",
    "        print(len(stack))\n",
    "    if command[0] == 'clear':\n",
    "        stack = []\n",
    "        print('ok')\n",
    "    if command[0] == 'back':\n",
    "        if stack:\n",
    "            print(stack[-1])\n",
    "        else:\n",
    "            print('error')\n",
    "    if command[0] == 'exit':\n",
    "        print('bye')\n",
    "        break\n",
    "    if command[0] == 'pop':\n",
    "        if stack:\n",
    "            print(stack.pop())\n",
    "        else:\n",
    "            print('error')\n",
    "    # if command[0] = 'min':\n",
    "    #     print(min(stack))\n",
    "    command = input().split(' ')"
   ]
  },
  {
   "cell_type": "code",
   "execution_count": null,
   "metadata": {},
   "outputs": [],
   "source": [
    "class Node():\n",
    "    def __init__(self, 5):\n",
    "        self.value = \n",
    "\n",
    "\n",
    "class Stack():\n",
    "    def __init__(self, arr):\n",
    "        self.arr = arr\n",
    "    def push(self, chislo):\n",
    "        smth\n",
    "    def clear(self):\n",
    "        self.arr = []\n",
    "    def ...\n",
    "    \n",
    "my_stack = Stack([])\n",
    "\n",
    "my_stack.push(5)"
   ]
  },
  {
   "cell_type": "code",
   "execution_count": 2,
   "metadata": {},
   "outputs": [
    {
     "name": "stdout",
     "output_type": "stream",
     "text": [
      "dfjd  sdksd sdk 687\n",
      "dfjd  sdksd sdk 687\n"
     ]
    }
   ],
   "source": [
    "a = input()\n",
    "print(a)"
   ]
  },
  {
   "cell_type": "code",
   "execution_count": 12,
   "metadata": {},
   "outputs": [
    {
     "name": "stdout",
     "output_type": "stream",
     "text": [
      "kek\n"
     ]
    }
   ],
   "source": [
    "a = []\n",
    "if a:\n",
    "    print('lol')\n",
    "else:\n",
    "    print('kek')"
   ]
  },
  {
   "cell_type": "code",
   "execution_count": 13,
   "metadata": {},
   "outputs": [],
   "source": [
    "a = []"
   ]
  },
  {
   "cell_type": "code",
   "execution_count": 28,
   "metadata": {},
   "outputs": [
    {
     "name": "stdout",
     "output_type": "stream",
     "text": [
      ")\n",
      "no\n"
     ]
    }
   ],
   "source": [
    "stack = []\n",
    "printed = False\n",
    "stroka = input()\n",
    "for char in stroka:\n",
    "    if char == '(' or char == '{' or char == '[':\n",
    "        stack.append(char)\n",
    "    else:\n",
    "        # } ] ) ЭТОТ КОД НЕ ИДЕАЛЕН НО ОН РАБОТАЕТ!\n",
    "        if not stack:\n",
    "            print('no')\n",
    "            printed = True\n",
    "            break\n",
    "        last = stack.pop()\n",
    "        if char == ')' and last == '(':\n",
    "            continue\n",
    "        if char == '}' and last == '{':\n",
    "            continue\n",
    "        if char == ']' and last == '[':\n",
    "            continue\n",
    "        print('no')\n",
    "        printed = True\n",
    "        break\n",
    "\n",
    "if not stack:\n",
    "    if not printed:\n",
    "        print('yes')\n",
    "else:\n",
    "    if not printed:\n",
    "        print('no')"
   ]
  },
  {
   "cell_type": "code",
   "execution_count": null,
   "metadata": {},
   "outputs": [],
   "source": [
    "{())"
   ]
  },
  {
   "cell_type": "code",
   "execution_count": null,
   "metadata": {},
   "outputs": [],
   "source": [
    "# примерный вид код\n",
    "# как то считали начальные значения\n",
    "first = [1,3,5,7,9] \n",
    "second = [2,4,6,8,0]\n",
    "\n",
    "for i in range(10**6+1):\n",
    "    a = first.front()\n",
    "    b = second.front()\n",
    "    if a > b or (a == 0 and b == 9):\n",
    "        first.append(a)\n",
    "        first.append(b)\n",
    "    if a < b or (b == 0 and a == 9):\n",
    "        second.append(a)\n",
    "        second.append(b)\n",
    "    if len(fisrt) == 0:\n",
    "        print('первый проиграл', i+1)\n",
    "        break\n",
    "    if len(second) == 0:\n",
    "        print('второй проиграл', i+1)\n",
    "        break\n",
    "    if i == 10**6:\n",
    "        print('ботва')"
   ]
  },
  {
   "cell_type": "code",
   "execution_count": null,
   "metadata": {},
   "outputs": [],
   "source": [
    "n = #\n",
    "scores = #\n",
    "answers = #\n",
    "\n",
    "posinion = 100500\n",
    "say = 0\n",
    "\n",
    "for i in range(102):\n",
    "    copy_ans = list(answers)\n",
    "    copy_ans.append(i)\n",
    "    winner, priz = find_min_uniq_index(copy_ans) # получим кто выйиграл при таком раскладе\n",
    "    # спойлер - это вложенный фор еще один или сортировка\n",
    "    # [1,1,5,6,4,5,3] -> 3\n",
    "    \n",
    "    copy_scores = list(scores)\n",
    "    copy_scores[winner] += priz\n",
    "    \n",
    "    curent_ans = sort_and_find_our_position(copy_scores)\n",
    "    \n",
    "    # [4, 6, 3, 7, 4, *3*] -> [3,*3*,4,4,6,7] -> 2\n",
    "    # надо в этом масиве найти где мы будем стоять если сделать от него sorted\n",
    "    if curent_ans > posinion:\n",
    "        posinion = curent_ans\n",
    "        say = i\n",
    "    "
   ]
  },
  {
   "cell_type": "code",
   "execution_count": null,
   "metadata": {},
   "outputs": [],
   "source": [
    "3\n",
    "100 100 101 \n",
    "2 2 101"
   ]
  },
  {
   "cell_type": "code",
   "execution_count": null,
   "metadata": {},
   "outputs": [],
   "source": [
    "a = (1,2)"
   ]
  },
  {
   "cell_type": "code",
   "execution_count": null,
   "metadata": {},
   "outputs": [],
   "source": [
    "[[1,1], [5,1], [6,1], [2,1], [4,1]"
   ]
  }
 ],
 "metadata": {
  "kernelspec": {
   "display_name": "Python 3",
   "language": "python",
   "name": "python3"
  },
  "language_info": {
   "codemirror_mode": {
    "name": "ipython",
    "version": 3
   },
   "file_extension": ".py",
   "mimetype": "text/x-python",
   "name": "python",
   "nbconvert_exporter": "python",
   "pygments_lexer": "ipython3",
   "version": "3.7.0"
  }
 },
 "nbformat": 4,
 "nbformat_minor": 2
}
