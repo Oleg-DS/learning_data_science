{
 "cells": [
  {
   "cell_type": "code",
   "execution_count": 5,
   "metadata": {},
   "outputs": [
    {
     "name": "stdout",
     "output_type": "stream",
     "text": [
      "1\n",
      "1\n",
      "1 1\n"
     ]
    }
   ],
   "source": [
    "# Задача А\n",
    "array_a = list(map(int, input().split()))\n",
    "array_b = list(map(int, input().split()))\n",
    "\n",
    "def merge(arr_1, arr_2):\n",
    "    result = list()\n",
    "    i_1 = 0\n",
    "    i_2 = 0\n",
    "    \n",
    "    while i_1 < len(arr_1) and i_2 < len(arr_2):\n",
    "        if arr_1[i_1] > arr_2[i_2]:\n",
    "            result.append(arr_2[i_2])\n",
    "            i_2 += 1\n",
    "        else:\n",
    "            result.append(arr_1[i_1])\n",
    "            i_1 += 1\n",
    "    \n",
    "    result.extend(arr_2[i_2:])\n",
    "    result.extend(arr_1[i_1:])\n",
    "    \n",
    "    return result\n",
    "\n",
    "res = merge(array_a, array_b)\n",
    "print(*res)"
   ]
  },
  {
   "cell_type": "code",
   "execution_count": 9,
   "metadata": {},
   "outputs": [
    {
     "name": "stdout",
     "output_type": "stream",
     "text": [
      "5\n",
      "5 4 3 2 1\n",
      "1 2 3 4 5\n"
     ]
    }
   ],
   "source": [
    "# Задача B\n",
    "def merge(arr_1, arr_2):\n",
    "    result = list()\n",
    "    i_1 = 0\n",
    "    i_2 = 0\n",
    "    while i_1 < len(arr_1) and i_2 < len(arr_2):\n",
    "        if arr_1[i_1] > arr_2[i_2]:\n",
    "            result.append(arr_2[i_2])\n",
    "            i_2 += 1\n",
    "        else:\n",
    "            result.append(arr_1[i_1])\n",
    "            i_1 += 1\n",
    "    result.extend(arr_2[i_2:])\n",
    "    result.extend(arr_1[i_1:])\n",
    "    return result\n",
    "\n",
    "\n",
    "def merge_sort(arr):\n",
    "    if len(arr) <= 1:\n",
    "        return arr\n",
    "    mid = len(arr) // 2\n",
    "    return merge(merge_sort(arr[:mid]), merge_sort(arr[mid:]))\n",
    "   \n",
    "\n",
    "\n",
    "len_arr = int(input())\n",
    "array = list(map(int, input().split()))\n",
    "\n",
    "res = merge_sort(array)\n",
    "print(*res)"
   ]
  },
  {
   "cell_type": "code",
   "execution_count": 33,
   "metadata": {},
   "outputs": [
    {
     "name": "stdout",
     "output_type": "stream",
     "text": [
      "-10 -7 -3 0 1 2 7 9\n",
      "-10 -7 9\n"
     ]
    }
   ],
   "source": [
    "# Задача C\n",
    "def merge(arr_1, arr_2):\n",
    "    result = list()\n",
    "    i_1 = 0\n",
    "    i_2 = 0\n",
    "    while i_1 < len(arr_1) and i_2 < len(arr_2):\n",
    "        if arr_1[i_1] > arr_2[i_2]:\n",
    "            result.append(arr_2[i_2])\n",
    "            i_2 += 1\n",
    "        else:\n",
    "            result.append(arr_1[i_1])\n",
    "            i_1 += 1\n",
    "    result.extend(arr_2[i_2:])\n",
    "    result.extend(arr_1[i_1:])\n",
    "    return result\n",
    "\n",
    "\n",
    "def merge_sort(arr):\n",
    "    if len(arr) <= 1:\n",
    "        return arr\n",
    "    mid = len(arr) // 2\n",
    "    return merge(merge_sort(arr[:mid]), merge_sort(arr[mid:]))\n",
    "   \n",
    "\n",
    "\n",
    "array = list(map(int, input().split()))\n",
    "res = merge_sort(array)\n",
    "answer = list()\n",
    "\n",
    "if res[0]*res[1]*res[-1] > res[-3]*res[-2]*res[-1]:\n",
    "    answer.append(res[0])\n",
    "    answer.append(res[1])\n",
    "    answer.append(res[-1])\n",
    "else:\n",
    "    answer.append(res[-3])\n",
    "    answer.append(res[-2])\n",
    "    answer.append(res[-1])\n",
    "\n",
    "print(*answer)"
   ]
  },
  {
   "cell_type": "code",
   "execution_count": 43,
   "metadata": {},
   "outputs": [
    {
     "name": "stdout",
     "output_type": "stream",
     "text": [
      "0 0 100 100 3 45 56 100 0 56 56 3 4\n",
      "0 0 0 3 3 4 45 56 56 56 100 100 100\n"
     ]
    }
   ],
   "source": [
    "# Задача D - сильно простой вариант, не проходит по времени\n",
    "def count_sort(arr):\n",
    "    result = list()\n",
    "    for i in range(101):\n",
    "        counter = 0\n",
    "        for j in arr:\n",
    "            if i == j:\n",
    "                counter += 1\n",
    "        if counter:\n",
    "            result += [i]*counter\n",
    "    return result\n",
    "\n",
    "array = list(map(int, input().split()))\n",
    "res = count_sort(array)\n",
    "print(*res)"
   ]
  },
  {
   "cell_type": "code",
   "execution_count": 47,
   "metadata": {},
   "outputs": [
    {
     "name": "stdout",
     "output_type": "stream",
     "text": [
      "0 0 100 100 3 45 56 100 0 56 56 3 4\n",
      "0 0 0 3 3 4 45 56 56 56 100 100 100\n"
     ]
    }
   ],
   "source": [
    "# Задача D - \"умное\" решение\n",
    "def count_sort(arr, max_value):\n",
    "    count_arr = [0]*max_value\n",
    "    for num in arr:\n",
    "        count_arr[num] +=  1\n",
    "    i = 0\n",
    "    for j in range(len(count_arr)):\n",
    "        while count_arr[j] > 0:\n",
    "            arr[i] = j\n",
    "            i += 1\n",
    "            count_arr[j] -= 1\n",
    "    return arr\n",
    "\n",
    "max_val = 101\n",
    "array = list(map(int, input().split()))\n",
    "array = count_sort(array, max_val)\n",
    "print(*array)"
   ]
  }
 ],
 "metadata": {
  "kernelspec": {
   "display_name": "Python 3",
   "language": "python",
   "name": "python3"
  },
  "language_info": {
   "codemirror_mode": {
    "name": "ipython",
    "version": 3
   },
   "file_extension": ".py",
   "mimetype": "text/x-python",
   "name": "python",
   "nbconvert_exporter": "python",
   "pygments_lexer": "ipython3",
   "version": "3.7.6"
  }
 },
 "nbformat": 4,
 "nbformat_minor": 4
}
