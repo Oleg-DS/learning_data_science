{
  "nbformat": 4,
  "nbformat_minor": 0,
  "metadata": {
    "colab": {
      "name": "aads_01_test.ipynb",
      "provenance": []
    },
    "kernelspec": {
      "name": "python3",
      "display_name": "Python 3"
    }
  },
  "cells": [
    {
      "cell_type": "code",
      "metadata": {
        "id": "G1bKR007xEMP",
        "colab_type": "code",
        "colab": {}
      },
      "source": [
        "def count_binary_ones(number):\n",
        "  # 101101 & 000001 -> 000001 = 1\n",
        "  # 101100 & 000001 -> 000000 = 0\n",
        "  # 101101 ->> 010110\n",
        "  count = 0\n",
        "  while number:\n",
        "    # a = 10\n",
        "    # a = 0b10\n",
        "    # 1010101 01010101 01010101\n",
        "    # \n",
        "    # C * x * (x // 64) = C * x * x\n",
        "    last_digit = number & 0x01\n",
        "    count = count + last_digit\n",
        "    number >>= 1\n",
        "  return count"
      ],
      "execution_count": null,
      "outputs": []
    },
    {
      "cell_type": "code",
      "metadata": {
        "id": "FTvO0IEWVhut",
        "colab_type": "code",
        "colab": {
          "base_uri": "https://localhost:8080/",
          "height": 163
        },
        "outputId": "fc9eace0-e25f-4b8b-b0ae-b48ab5dd245b"
      },
      "source": [
        "print(10)\n",
        "print(0b10)\n",
        "print(0o10)\n",
        "print(0x10)\n",
        "print(0b10010011)\n",
        "print(0xffffff)\n",
        "print(10000.)\n",
        "print(123e-4)"
      ],
      "execution_count": null,
      "outputs": [
        {
          "output_type": "stream",
          "text": [
            "10\n",
            "2\n",
            "8\n",
            "16\n",
            "147\n",
            "16777215\n",
            "10000.0\n",
            "0.0123\n"
          ],
          "name": "stdout"
        }
      ]
    },
    {
      "cell_type": "code",
      "metadata": {
        "id": "9ZhV5EMA0Lut",
        "colab_type": "code",
        "colab": {}
      },
      "source": [
        "def count_binary_ones_reference(number):\n",
        "  return sum(1 for i in bin(number) if i == '1')"
      ],
      "execution_count": null,
      "outputs": []
    },
    {
      "cell_type": "code",
      "metadata": {
        "id": "jXyUwyeN5NVS",
        "colab_type": "code",
        "colab": {
          "base_uri": "https://localhost:8080/",
          "height": 244
        },
        "outputId": "496d877e-3c02-4879-97a4-75f4317a5551"
      },
      "source": [
        "f = open('filename')\n",
        "\n",
        "with open('filename') as f:\n",
        "  for line in f:\n",
        "    pass\n",
        "\n",
        "a = 10"
      ],
      "execution_count": null,
      "outputs": [
        {
          "output_type": "error",
          "ename": "FileNotFoundError",
          "evalue": "ignored",
          "traceback": [
            "\u001b[0;31m---------------------------------------------------------------------------\u001b[0m",
            "\u001b[0;31mFileNotFoundError\u001b[0m                         Traceback (most recent call last)",
            "\u001b[0;32m<ipython-input-4-faf5b3f6971d>\u001b[0m in \u001b[0;36m<module>\u001b[0;34m()\u001b[0m\n\u001b[0;32m----> 1\u001b[0;31m \u001b[0mf\u001b[0m \u001b[0;34m=\u001b[0m \u001b[0mopen\u001b[0m\u001b[0;34m(\u001b[0m\u001b[0;34m'filename'\u001b[0m\u001b[0;34m)\u001b[0m\u001b[0;34m\u001b[0m\u001b[0;34m\u001b[0m\u001b[0m\n\u001b[0m\u001b[1;32m      2\u001b[0m \u001b[0;34m\u001b[0m\u001b[0m\n\u001b[1;32m      3\u001b[0m \u001b[0;32mwith\u001b[0m \u001b[0mopen\u001b[0m\u001b[0;34m(\u001b[0m\u001b[0;34m'filename'\u001b[0m\u001b[0;34m)\u001b[0m \u001b[0;32mas\u001b[0m \u001b[0mf\u001b[0m\u001b[0;34m:\u001b[0m\u001b[0;34m\u001b[0m\u001b[0;34m\u001b[0m\u001b[0m\n\u001b[1;32m      4\u001b[0m   \u001b[0;32mfor\u001b[0m \u001b[0mline\u001b[0m \u001b[0;32min\u001b[0m \u001b[0mf\u001b[0m\u001b[0;34m:\u001b[0m\u001b[0;34m\u001b[0m\u001b[0;34m\u001b[0m\u001b[0m\n\u001b[1;32m      5\u001b[0m     \u001b[0;32mpass\u001b[0m\u001b[0;34m\u001b[0m\u001b[0;34m\u001b[0m\u001b[0m\n",
            "\u001b[0;31mFileNotFoundError\u001b[0m: [Errno 2] No such file or directory: 'filename'"
          ]
        }
      ]
    },
    {
      "cell_type": "code",
      "metadata": {
        "id": "feucNBpW5TJy",
        "colab_type": "code",
        "colab": {}
      },
      "source": [
        "import time\n",
        "\n",
        "class Timer:\n",
        "  def __init__(self):\n",
        "    self.start_time = None\n",
        "    self.elapsed_time = None\n",
        "\n",
        "  def __enter__(self):\n",
        "    self.start_time = time.time()\n",
        "    return self\n",
        "  \n",
        "  def __exit__(self, *args, **kwargs):\n",
        "    self.elapsed_time = time.time() - self.start_time\n",
        "    self.start_time = None"
      ],
      "execution_count": null,
      "outputs": []
    },
    {
      "cell_type": "code",
      "metadata": {
        "id": "LjA-ne6R6Oh-",
        "colab_type": "code",
        "colab": {}
      },
      "source": [
        "def measure_performance(func, max_log=10000, log_step=100):\n",
        "  # 1000101010101\n",
        "  # 1000000000000\n",
        "  logs = []\n",
        "  times = []\n",
        "\n",
        "  for i in range(0, max_log, log_step):\n",
        "    number = 1 << i\n",
        "\n",
        "    with Timer() as timer:\n",
        "      func(number)\n",
        "\n",
        "    logs.append(i)\n",
        "    times.append(timer.elapsed_time)\n",
        "\n",
        "  return logs, times"
      ],
      "execution_count": null,
      "outputs": []
    },
    {
      "cell_type": "code",
      "metadata": {
        "id": "c_deO4my6sze",
        "colab_type": "code",
        "colab": {}
      },
      "source": [
        "%matplotlib inline\n",
        "\n",
        "import matplotlib\n",
        "import matplotlib.pyplot as plt"
      ],
      "execution_count": null,
      "outputs": []
    },
    {
      "cell_type": "code",
      "metadata": {
        "id": "44L_xzee7lum",
        "colab_type": "code",
        "colab": {
          "base_uri": "https://localhost:8080/",
          "height": 294
        },
        "outputId": "18adc407-b45e-43d7-a990-392b3bc6d773"
      },
      "source": [
        "logs, times = measure_performance(count_binary_ones, max_log=64, log_step=1)\n",
        "plt.plot(logs, times)"
      ],
      "execution_count": null,
      "outputs": [
        {
          "output_type": "execute_result",
          "data": {
            "text/plain": [
              "[<matplotlib.lines.Line2D at 0x7f8d59697198>]"
            ]
          },
          "metadata": {
            "tags": []
          },
          "execution_count": 24
        },
        {
          "output_type": "display_data",
          "data": {
            "image/png": "[encoded data removed]",
            "text/plain": [
              "<Figure size 432x288 with 1 Axes>"
            ]
          },
          "metadata": {
            "tags": [],
            "needs_background": "light"
          }
        }
      ]
    },
    {
      "cell_type": "code",
      "metadata": {
        "id": "sJYW9bTCzrgO",
        "colab_type": "code",
        "colab": {
          "base_uri": "https://localhost:8080/",
          "height": 283
        },
        "outputId": "6b293eca-5960-45fe-94b3-8e961b966492"
      },
      "source": [
        "logs, times = measure_performance(count_binary_ones, max_log=100000, log_step=1000)\n",
        "plt.plot(logs, times)"
      ],
      "execution_count": null,
      "outputs": [
        {
          "output_type": "execute_result",
          "data": {
            "text/plain": [
              "[<matplotlib.lines.Line2D at 0x7f8d59825ba8>]"
            ]
          },
          "metadata": {
            "tags": []
          },
          "execution_count": 25
        },
        {
          "output_type": "display_data",
          "data": {
            "image/png": "[encoded data removed]",
            "text/plain": [
              "<Figure size 432x288 with 1 Axes>"
            ]
          },
          "metadata": {
            "tags": [],
            "needs_background": "light"
          }
        }
      ]
    },
    {
      "cell_type": "code",
      "metadata": {
        "id": "zhGAdJTTdfqY",
        "colab_type": "code",
        "colab": {
          "base_uri": "https://localhost:8080/",
          "height": 35
        },
        "outputId": "d5bc4b53-4db9-44f2-98a3-13ce062905cc"
      },
      "source": [
        "number = 17\n",
        "bytearray(number.to_bytes(5, byteorder='little'))"
      ],
      "execution_count": null,
      "outputs": [
        {
          "output_type": "execute_result",
          "data": {
            "text/plain": [
              "bytearray(b'\\x11\\x00\\x00\\x00\\x00')"
            ]
          },
          "metadata": {
            "tags": []
          },
          "execution_count": 30
        }
      ]
    },
    {
      "cell_type": "code",
      "metadata": {
        "id": "PsU_KmNA7q5b",
        "colab_type": "code",
        "colab": {}
      },
      "source": [
        "def count_binary_ones_optimal(number):\n",
        "  # 0b111 = 5\n",
        "  # 0b00000111\n",
        "  # 0b111111111\n",
        "  # 0b0000001 0b11111111  \n",
        "  bytes_needed = (number.bit_length() + 7) // 8\n",
        "  number_as_bytes = bytearray(number.to_bytes(bytes_needed, byteorder='big'))\n",
        "  count = 0\n",
        "  for byte in number_as_bytes:\n",
        "    while byte:\n",
        "      last_digit = byte & 0x01\n",
        "      count = count + last_digit\n",
        "      byte >>= 1\n",
        "      \n",
        "  return count"
      ],
      "execution_count": null,
      "outputs": []
    },
    {
      "cell_type": "code",
      "metadata": {
        "id": "f9plrk0O808y",
        "colab_type": "code",
        "colab": {}
      },
      "source": [
        "x = 17\n",
        "print(bin(x))\n",
        "print(count_binary_ones(x))"
      ],
      "execution_count": null,
      "outputs": []
    },
    {
      "cell_type": "code",
      "metadata": {
        "id": "Ootoda699u1D",
        "colab_type": "code",
        "colab": {
          "base_uri": "https://localhost:8080/",
          "height": 283
        },
        "outputId": "31c18638-da92-436b-f93d-64e9553b35e8"
      },
      "source": [
        "algorithms = {\n",
        "  count_binary_ones: 'red',\n",
        "  count_binary_ones_optimal: 'green',\n",
        "  count_binary_ones_reference: 'blue',\n",
        "}\n",
        "\n",
        "for algo, color in algorithms.items():\n",
        "  logs, times = measure_performance(algo, max_log=100000, log_step=1000)\n",
        "  plt.plot(logs, times, color=color, label=algo.__name__)\n",
        "plt.legend()"
      ],
      "execution_count": null,
      "outputs": [
        {
          "output_type": "execute_result",
          "data": {
            "text/plain": [
              "<matplotlib.legend.Legend at 0x7f8d5934d6d8>"
            ]
          },
          "metadata": {
            "tags": []
          },
          "execution_count": 38
        },
        {
          "output_type": "display_data",
          "data": {
            "image/png": "[encoded data removed]",
            "text/plain": [
              "<Figure size 432x288 with 1 Axes>"
            ]
          },
          "metadata": {
            "tags": [],
            "needs_background": "light"
          }
        }
      ]
    },
    {
      "cell_type": "code",
      "metadata": {
        "id": "hU8l6rR7-KHU",
        "colab_type": "code",
        "colab": {}
      },
      "source": [
        "input()"
      ],
      "execution_count": null,
      "outputs": []
    }
  ]
}