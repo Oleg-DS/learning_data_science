{
 "cells": [
  {
   "cell_type": "code",
   "execution_count": null,
   "metadata": {},
   "outputs": [],
   "source": [
    "#Задача A\n",
    "n, k = map(int, input().split())\n",
    "array_n = list(map(int, input().split()))\n",
    "array_k = list(map(int, input().split()))\n",
    "\n",
    "for i in range(k):\n",
    "    left = 0\n",
    "    right = n\n",
    "    while left != right:\n",
    "        middle = (right + left) // 2\n",
    "        if array_n[middle] == array_k[i]:\n",
    "            print('YES')\n",
    "            break\n",
    "        if array_n[middle] > array_k[i]:\n",
    "            right = middle\n",
    "        if array_n[middle] < array_k[i]:\n",
    "            left = middle + 1\n",
    "    else:\n",
    "        print('NO')"
   ]
  },
  {
   "cell_type": "code",
   "execution_count": null,
   "metadata": {},
   "outputs": [],
   "source": [
    "#Задача B\n",
    "def compare(time):\n",
    "    copies = 1 + (time - min_xy)//time_x + (time - min_xy)//time_y\n",
    "    return num_copies > copies\n",
    "\n",
    "\n",
    "num_copies, time_x, time_y = map(int, input().split())\n",
    "min_xy = min(time_x, time_y)\n",
    "\n",
    "\n",
    "left = 0\n",
    "right = min_xy * num_copies\n",
    "\n",
    "while left != right:\n",
    "    time = (left + right) // 2\n",
    "    if compare(time):\n",
    "        left = time + 1\n",
    "    else:\n",
    "        right = time\n",
    "print(left)"
   ]
  },
  {
   "cell_type": "code",
   "execution_count": 22,
   "metadata": {},
   "outputs": [
    {
     "name": "stdout",
     "output_type": "stream",
     "text": [
      "3\n",
      "9 7 5\n",
      "7\n",
      "4 5 6 7 8 9 10\n",
      "0 1 0 1 0 1 0 "
     ]
    }
   ],
   "source": [
    "#Задача C\n",
    "num_n = int(input())\n",
    "array_n = list(map(int, input().split()))\n",
    "num_m = int(input())\n",
    "array_m = list(map(int, input().split()))\n",
    "\n",
    "\n",
    "def lower_bound(array, func):\n",
    "    begin = 0\n",
    "    end = len(array)\n",
    "    while begin != end:\n",
    "        mid = (begin + end) // 2\n",
    "        if func(array[mid]):\n",
    "            begin = mid + 1\n",
    "        else:\n",
    "            end = mid\n",
    "    \n",
    "    return begin\n",
    "\n",
    "\n",
    "array_n.sort()\n",
    "dic = dict()\n",
    "\n",
    "lower_b = lower_bound(array_n, lambda x: x < array_m[0])\n",
    "upper_b = lower_bound(array_n, lambda x: x <= array_m[0])\n",
    "number = len(array_n[lower_b:upper_b])\n",
    "dic[array_m[0]] = number\n",
    "print(number, end=' ')\n",
    "\n",
    "for i in range(1, num_m):\n",
    "    if array_m[i] in dic.keys():\n",
    "        print(dic[array_m[i]], end=' ')\n",
    "        continue\n",
    "    lower_b = lower_bound(array_n, lambda x: x < array_m[i])\n",
    "    upper_b = lower_bound(array_n, lambda x: x <= array_m[i])\n",
    "    number = len(array_n[lower_b:upper_b])\n",
    "    dic[array_m[i]] = number\n",
    "    print(number, end=' ')"
   ]
  },
  {
   "cell_type": "code",
   "execution_count": 38,
   "metadata": {},
   "outputs": [
    {
     "name": "stdout",
     "output_type": "stream",
     "text": [
      "8\n",
      "8\n",
      "[0, 1, 2, 3, 3, 3, 4, 5]\n",
      "[]\n",
      "[]\n"
     ]
    }
   ],
   "source": [
    "def lower_bound(array, func):\n",
    "    begin = 0\n",
    "    end = len(array)\n",
    "    while begin != end:\n",
    "        mid = (begin + end) // 2\n",
    "        if func(array[mid]):\n",
    "            begin = mid + 1\n",
    "        else:\n",
    "            end = mid\n",
    "    \n",
    "    print(begin)\n",
    "    return begin\n",
    "\n",
    "arr = [0, 1, 2, 3, 3, 3, 4, 5]\n",
    "lower_b = lower_bound(arr, lambda x: x < 6)\n",
    "upper_b = lower_bound(arr, lambda x: x <= 6)\n",
    "print(arr[:lower_b])\n",
    "print(arr[lower_b:upper_b])\n",
    "print(arr[upper_b:])"
   ]
  },
  {
   "cell_type": "code",
   "execution_count": 4,
   "metadata": {},
   "outputs": [
    {
     "name": "stdout",
     "output_type": "stream",
     "text": [
      "4 3\n",
      "0 2 7 8\n",
      "8 8\n",
      "4 7\n",
      "4\n"
     ]
    }
   ],
   "source": [
    "#Задача D\n",
    "num_stall, num_cow = map(int, input().split())\n",
    "coordinates = list(map(int, input().split()))\n",
    "\n",
    "max_dist = (coordinates[num_stall-1] - coordinates[0]) // (num_cow - 1)\n",
    "for i in range(max_dist, 0, -1):\n",
    "    is_max = True\n",
    "    num_dist = num_cow - 1\n",
    "    coord = coordinates[:]\n",
    "    while num_dist:\n",
    "        dist = i * num_dist\n",
    "        print(dist, coord[-1])\n",
    "        if dist > coord.pop():\n",
    "            is_max = False\n",
    "            break\n",
    "        num_dist -= 1\n",
    "    if is_max:\n",
    "        print(i)\n",
    "        break"
   ]
  },
  {
   "cell_type": "code",
   "execution_count": 26,
   "metadata": {},
   "outputs": [
    {
     "name": "stdout",
     "output_type": "stream",
     "text": [
      "10 10\n",
      "-5 1 1 3 5 5 8 12 13 16 \n",
      "0 3 7 -17 23 11 0 11 15 7 \n",
      "1\n",
      "3\n",
      "8\n",
      "-5\n",
      "16\n",
      "12\n",
      "1\n",
      "12\n",
      "16\n",
      "8\n"
     ]
    }
   ],
   "source": [
    "#Задача E\n",
    "num_n, num_k = map(int, input().split())\n",
    "array_n = list(map(int, input().split()))\n",
    "array_k = list(map(int, input().split()))\n",
    "\n",
    "\n",
    "def lower_bound(array, func):\n",
    "    begin = 0\n",
    "    end = len(array)\n",
    "    while begin != end:\n",
    "        mid = (begin + end) // 2\n",
    "        if func(array[mid]):\n",
    "            begin = mid + 1\n",
    "        else:\n",
    "            end = mid\n",
    "    \n",
    "    return begin\n",
    "\n",
    "\n",
    "dic = dict()\n",
    "\n",
    "aim = lower_bound(array_n, lambda x: x < array_k[0])\n",
    "if aim == num_n:\n",
    "    aim -= 1\n",
    "if abs(array_n[aim]-array_k[0]) < abs(array_n[aim-1]-array_k[0]):\n",
    "    print(array_n[aim])\n",
    "    dic[array_k[0]] = array_n[aim]\n",
    "else:\n",
    "    print(array_n[aim-1])\n",
    "    dic[array_k[0]] = array_n[aim-1]\n",
    "\n",
    "for i in range(1, num_k):\n",
    "    if array_k[i] in dic.keys():\n",
    "        print(dic[array_k[i]])\n",
    "        continue\n",
    "    aim = lower_bound(array_n, lambda x: x < array_k[i])\n",
    "    if aim == num_n:\n",
    "        aim -= 1\n",
    "    if abs(array_n[aim]-array_k[i]) < abs(array_n[aim-1]-array_k[i]):\n",
    "        print(array_n[aim])\n",
    "        dic[array_k[i]] = array_n[aim]\n",
    "    else:\n",
    "        print(array_n[aim-1])\n",
    "        dic[array_k[i]] = array_n[aim-1]"
   ]
  },
  {
   "cell_type": "code",
   "execution_count": 21,
   "metadata": {},
   "outputs": [
    {
     "name": "stdout",
     "output_type": "stream",
     "text": [
      "3\n",
      "[1, 3, 3]\n",
      "[5, 5, 7, 9]\n"
     ]
    }
   ],
   "source": [
    "def lower_bound(array, func):\n",
    "    begin = 0\n",
    "    end = len(array)\n",
    "    while begin != end:\n",
    "        mid = (begin + end) // 2\n",
    "        if func(array[mid]):\n",
    "            begin = mid + 1\n",
    "        else:\n",
    "            end = mid\n",
    "    \n",
    "    return begin\n",
    "\n",
    "array_n = [1, 3, 3, 5, 5, 7, 9]\n",
    "# array_k = [2, 4, 8, 1, 6]\n",
    "\n",
    "lower = lower_bound(array_n, lambda x: x < 4)\n",
    "# upper = lower_bound(array_n, lambda x: x <= 4)\n",
    "print(lower)\n",
    "# print(upper)\n",
    "print(array_n[:lower])\n",
    "# print(array_n[lower:upper])\n",
    "print(array_n[lower:])"
   ]
  }
 ],
 "metadata": {
  "kernelspec": {
   "display_name": "Python 3",
   "language": "python",
   "name": "python3"
  },
  "language_info": {
   "codemirror_mode": {
    "name": "ipython",
    "version": 3
   },
   "file_extension": ".py",
   "mimetype": "text/x-python",
   "name": "python",
   "nbconvert_exporter": "python",
   "pygments_lexer": "ipython3",
   "version": "3.7.6"
  }
 },
 "nbformat": 4,
 "nbformat_minor": 4
}
