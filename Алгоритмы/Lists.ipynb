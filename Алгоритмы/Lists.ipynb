{
  "nbformat": 4,
  "nbformat_minor": 0,
  "metadata": {
    "colab": {
      "name": "Untitled13.ipynb",
      "provenance": []
    },
    "kernelspec": {
      "name": "python3",
      "display_name": "Python 3"
    }
  },
  "cells": [
    {
      "cell_type": "code",
      "metadata": {
        "id": "FiLXOsFPByo4"
      },
      "source": [
        "\n",
        "\n",
        "class Node:\n",
        "\n",
        "  def __init__(self, value, next=None):\n",
        "    self.value = value\n",
        "    self.next = next\n",
        "\n",
        "# 1 -> 2 -> 3 -> 4 -> None\n",
        "empty_list = None\n",
        "node_4 = Node(4, empty_list)\n",
        "node_3 = Node(3, node_4)\n",
        "node_2 = Node(2, node_3)\n",
        "node_1 = Node(1, node_2)"
      ],
      "execution_count": null,
      "outputs": []
    },
    {
      "cell_type": "code",
      "metadata": {
        "id": "mXm6rS65C--7"
      },
      "source": [
        "def traverse_list_elements(head):\n",
        "  while head:\n",
        "    print(head.value)\n",
        "    head = head.next"
      ],
      "execution_count": null,
      "outputs": []
    },
    {
      "cell_type": "code",
      "metadata": {
        "id": "kNZWXUAADSXE"
      },
      "source": [
        "# 1 -> 2 -> 3 -> 4 -> None\n",
        "# 4 -> 3 -> 2 -> 1 -> None\n",
        "def reverse_linked_list(head):\n",
        "  values = []\n",
        "  while head:\n",
        "    values.append(head.value)\n",
        "    head = head.next\n",
        "  \n",
        "  new_list = None\n",
        "  for value in values:\n",
        "    new_list = Node(value, new_list)\n",
        "  \n",
        "  return new_list"
      ],
      "execution_count": null,
      "outputs": []
    },
    {
      "cell_type": "code",
      "metadata": {
        "id": "QKrILLnVE6qI"
      },
      "source": [
        "def reverse_linked_list2(head):\n",
        "  # 1 -> 2 -> 3 -> 4 -> None\n",
        "  # 4 -> 3 -> 2 -> 1 -> None\n",
        "  new_list = None\n",
        "  while head:\n",
        "    new_list = Node(head.value, new_list)\n",
        "    head = head.next\n",
        "  return new_list"
      ],
      "execution_count": null,
      "outputs": []
    },
    {
      "cell_type": "code",
      "metadata": {
        "id": "woc4iLPtFY98"
      },
      "source": [
        "def reverse_linked_list3(head):\n",
        "  # None <- 1  <- 2 <- 3 <- 4  None\n",
        "  #                         ^p ^h\n",
        "  prev = None\n",
        "  while head:\n",
        "    next = head.next\n",
        "    head.next = prev\n",
        "    prev = head\n",
        "    head = next\n",
        "  return prev"
      ],
      "execution_count": null,
      "outputs": []
    },
    {
      "cell_type": "code",
      "metadata": {
        "id": "9BhcbXx4GwhI"
      },
      "source": [
        "def reverse_linked_list4(head):\n",
        "  # None <- 1 <- 2 <- 3  4 -> None\n",
        "  reversed_head = None\n",
        "  while head:\n",
        "    value = head\n",
        "    head = head.next\n",
        "    value.next = reversed_head\n",
        "    reversed_head = value\n",
        "  return reversed_head\n"
      ],
      "execution_count": null,
      "outputs": []
    },
    {
      "cell_type": "code",
      "metadata": {
        "id": "EN6PX3ATDVZQ",
        "outputId": "e5c3b116-0248-4a5c-bdb8-c12bea66ebc5",
        "colab": {
          "base_uri": "https://localhost:8080/",
          "height": 351
        }
      },
      "source": [
        "traverse_list_elements(node_1)\n",
        "print('----')\n",
        "traverse_list_elements(reverse_linked_list(node_1))\n",
        "print('----')\n",
        "traverse_list_elements(reverse_linked_list2(node_1))\n",
        "print('----')\n",
        "traverse_list_elements(reverse_linked_list2(node_1))"
      ],
      "execution_count": null,
      "outputs": [
        {
          "output_type": "stream",
          "text": [
            "1\n",
            "2\n",
            "3\n",
            "4\n",
            "----\n",
            "4\n",
            "3\n",
            "2\n",
            "1\n",
            "----\n",
            "4\n",
            "3\n",
            "2\n",
            "1\n",
            "----\n",
            "4\n",
            "3\n",
            "2\n",
            "1\n"
          ],
          "name": "stdout"
        }
      ]
    },
    {
      "cell_type": "code",
      "metadata": {
        "id": "3PCzmiKgEgjR"
      },
      "source": [
        "LRUCache(10) # Lasr recently used cache\n",
        "{\"1\": 2, \"3\": 4} <-"
      ],
      "execution_count": null,
      "outputs": []
    }
  ]
}