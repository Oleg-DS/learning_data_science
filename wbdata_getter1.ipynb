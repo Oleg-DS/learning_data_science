{
 "cells": [
  {
   "cell_type": "code",
   "execution_count": 1,
   "metadata": {},
   "outputs": [],
   "source": [
    "import wbdata\n",
    "from datetime import datetime\n",
    "import pandas as pd\n",
    "import numpy as np"
   ]
  },
  {
   "cell_type": "code",
   "execution_count": 2,
   "metadata": {},
   "outputs": [],
   "source": [
    "def inp_data():\n",
    "    \n",
    "    flag = None\n",
    "    year = None\n",
    "    country = None\n",
    "    \n",
    "    \n",
    "    while True:\n",
    "        #указываем 'country' для определения позиции и объема ВВП одной страны в заданом году, \n",
    "        #'top' - для вывода топ-10 стран по ВВП в заданном году\n",
    "        flag = input('Type \"country\" or \"top\" or \"stop\" to cancel a request: ').strip()\n",
    "        if flag == 'stop':\n",
    "            print('Cancelling your request..')\n",
    "            break\n",
    "        elif flag == 'country' or flag == 'top':\n",
    "            print('Got it!')\n",
    "            break\n",
    "        else:\n",
    "            print('Sorry, I don\\'t know such a command..')\n",
    "        \n",
    "    \n",
    "    if flag == 'country' or flag == 'top':\n",
    "        while True:\n",
    "            year = input('Type a year from 1990 to 2019 or \"stop\" to cancel a request: ').strip()\n",
    "            if year == 'stop':\n",
    "                print('Cancelling your request..')\n",
    "                break\n",
    "            elif year.isdigit():\n",
    "                if int(year) in range(1990, 2020):\n",
    "                    print('Got it!')\n",
    "                    break\n",
    "                else:\n",
    "                    print('Sorry, I can\\'t understand.. Please, try again..')    \n",
    "            else:\n",
    "                print('Sorry, I can\\'t understand.. Please, try again..')       \n",
    "        \n",
    " \n",
    "    if flag == 'country' and year != 'stop':\n",
    "        while True:\n",
    "            country = input('Type a country name or \"stop\" to cancel a request: ').strip()\n",
    "            if country == 'stop':\n",
    "                print('Cancelling your request..')\n",
    "                break\n",
    "            dic_countries = wbdata.search_countries(country)\n",
    "            if len(dic_countries) == 0:\n",
    "                print('Sorry, can\\'t find this country..')\n",
    "            elif len(dic_countries) > 1:\n",
    "                if country == dic_countries[0]['name']:\n",
    "                    country = dic_countries[0]['name']\n",
    "                    print('Good choice! Let\\'s check info about', country)\n",
    "                    break   \n",
    "                print('Find several countries, please choose one:')\n",
    "                for n in dic_countries:\n",
    "                    print(n['name'])                \n",
    "            else:\n",
    "                country = dic_countries[0]['name']\n",
    "                print('Good choice! Let\\'s check info about', country)\n",
    "                break\n",
    "    \n",
    "    return flag, year, country"
   ]
  },
  {
   "cell_type": "code",
   "execution_count": 3,
   "metadata": {},
   "outputs": [],
   "source": [
    "def info_getter(fl, yr, cnt=None):\n",
    "    \n",
    "    yr = int(yr)\n",
    "    d_date = datetime(yr, 1, 1)\n",
    "    df_gdp = wbdata.get_dataframe({'NY.GDP.MKTP.PP.CD':'GDP, PPP, $B'}, data_date=d_date)\n",
    "    \n",
    "    index_to_drop = df_gdp.index[:47]\n",
    "    df_gdp_c = df_gdp.drop(index_to_drop)\n",
    "    \n",
    "    df_gdp_c = df_gdp_c.fillna({'GDP, PPP, $B':0})\n",
    "    df_gdp_cs = df_gdp_c.sort_values(['GDP, PPP, $B'], ascending=False)\n",
    "    \n",
    "    df_gdp_cs['GDP, PPP, $B'] = round(df_gdp_cs['GDP, PPP, $B']/1000000000).apply(lambda x: int(x))\n",
    "    df_gdp_cs['GDP, PPP, $B'] = df_gdp_cs['GDP, PPP, $B'].apply(lambda x: '{0:,}'.format(x).replace(',', ' '))\n",
    "    \n",
    "    if fl == 'country':\n",
    "        ind = np.where(df_gdp_cs.index == cnt)\n",
    "        pos = ind[0][0]+1\n",
    "        gdp = df_gdp_cs.loc[cnt]['GDP, PPP, $B']\n",
    "        print(cnt, '\\nPosition in the World in ', yr, ': ', pos, '\\nGPD, PPP: ', gdp, ' $B', sep='')\n",
    "        \n",
    "    if fl == 'top':\n",
    "        print('Top ten countries in the World by GDP, PPP in ', yr, ':', sep='')\n",
    "        print(df_gdp_cs.head(10).to_string(header=True))"
   ]
  },
  {
   "cell_type": "code",
   "execution_count": 5,
   "metadata": {},
   "outputs": [
    {
     "name": "stdout",
     "output_type": "stream",
     "text": [
      "Type \"country\" or \"top\" or \"stop\" to cancel a request: top\n",
      "Got it!\n",
      "Type a year from 1990 to 2019 or \"stop\" to cancel a request: 1990\n",
      "Got it!\n",
      "Top ten countries in the World by GDP, PPP in 1990:\n",
      "                   GDP, PPP, $B\n",
      "country                        \n",
      "United States             5 963\n",
      "Japan                     2 417\n",
      "Germany                   1 543\n",
      "Russian Federation        1 188\n",
      "China                     1 115\n",
      "Italy                     1 055\n",
      "India                     1 049\n",
      "France                    1 026\n",
      "Brazil                      999\n",
      "United Kingdom              963\n"
     ]
    }
   ],
   "source": [
    "flag, year, country = inp_data()\n",
    "if flag!='stop' and year!='stop' and country!='stop':\n",
    "    try:\n",
    "        info_getter(flag, year, country)\n",
    "    except:\n",
    "        print('The request is cancelled.. for some unknown reason..')"
   ]
  },
  {
   "cell_type": "code",
   "execution_count": null,
   "metadata": {},
   "outputs": [],
   "source": []
  }
 ],
 "metadata": {
  "kernelspec": {
   "display_name": "Python 3",
   "language": "python",
   "name": "python3"
  },
  "language_info": {
   "codemirror_mode": {
    "name": "ipython",
    "version": 3
   },
   "file_extension": ".py",
   "mimetype": "text/x-python",
   "name": "python",
   "nbconvert_exporter": "python",
   "pygments_lexer": "ipython3",
   "version": "3.7.6"
  }
 },
 "nbformat": 4,
 "nbformat_minor": 4
}
