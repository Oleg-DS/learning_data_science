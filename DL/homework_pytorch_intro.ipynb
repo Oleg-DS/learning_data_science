{
 "cells": [
  {
   "cell_type": "markdown",
   "metadata": {},
   "source": [
    "# PyTorch pretrained model demo\n",
    "\n",
    "> *Demo based on [this gist](https://gist.github.com/jkarimi91/d393688c4d4cdb9251e3f939f138876e).*\n",
    "\n",
    "This script will demonstrate how to use a pretrained model, in PyTorch, \n",
    "to make predictions. Specifically, we will be using VGG16 with a random \n",
    "image from the internet.\n",
    "\n",
    "References:\n",
    "* PyTorch pretrained models doc: http://pytorch.org/docs/master/torchvision/models.html\n",
    "* PyTorch image transforms example: http://pytorch.org/tutorials/beginner/data_loading_tutorial.html#transforms"
   ]
  },
  {
   "cell_type": "code",
   "execution_count": null,
   "metadata": {},
   "outputs": [],
   "source": [
    "import io\n",
    "\n",
    "from PIL import Image\n",
    "import requests\n",
    "\n",
    "import numpy as np"
   ]
  },
  {
   "cell_type": "markdown",
   "metadata": {},
   "source": [
    "Let's download some image."
   ]
  },
  {
   "cell_type": "code",
   "execution_count": null,
   "metadata": {},
   "outputs": [],
   "source": [
    "IMG_URL = 'https://upload.wikimedia.org/wikipedia/en/5/5f/Original_Doge_meme.jpg'\n",
    "\n",
    "response = requests.get(IMG_URL)\n",
    "img = Image.open(io.BytesIO(response.content))  # Read bytes and store as an img.\n",
    "\n",
    "print(f'Image size: {img.size}')\n",
    "img"
   ]
  },
  {
   "cell_type": "code",
   "execution_count": null,
   "metadata": {},
   "outputs": [],
   "source": [
    "# Class labels used when training VGG as json, courtesy of http://blog.outcome.io/pytorch-quick-start-classifying-an-image/\n",
    "LABELS_URL = 'https://s3.amazonaws.com/outcome-blog/imagenet/labels.json'\n",
    "\n",
    "# Let's get our class labels.\n",
    "response = requests.get(LABELS_URL)  # Make an HTTP GET request and store the response\n",
    "labels = {int(key): value for key, value in response.json().items()}  # Parse the response\n",
    "assert set(labels.keys()) == set(range(1000))  # Make sure the labels have expected format\n",
    "labels = np.array([v for (k, v) in sorted(labels.items())])  # Transform them into a Numpy array for convenience\n",
    "\n",
    "print(f'Total labels: {len(labels)}')\n",
    "print(f'Example labels: {labels[200:205]}')"
   ]
  },
  {
   "cell_type": "markdown",
   "metadata": {},
   "source": [
    "Now that we have an img, we need to preprocess it.\n",
    "We need to:\n",
    "\n",
    "* Resize the image to 224x224 px, preferably preserving aspect ratio;\n",
    "* Convert it to a PyTorch Tensor;\n",
    "* Normalize it, as noted in the [PyTorch pretrained models doc](https://pytorch.org/vision/stable/models.html),\n",
    "with `mean = [0.485, 0.456, 0.406]` and `std = [0.229, 0.224, 0.225]`.\n",
    "\n",
    "We can do all this preprocessing using a transform pipeline."
   ]
  },
  {
   "cell_type": "code",
   "execution_count": null,
   "metadata": {},
   "outputs": [],
   "source": [
    "import torchvision.transforms as transforms\n",
    "\n",
    "transform_pipeline = transforms.Compose([\n",
    "    # Transforms taken from https://github.com/pytorch/examples/blob/4db11160c21d0e26634ca1fcb94a73ad8d870ba7/imagenet/main.py#L227-L230\n",
    "    transforms.Resize(256),      # Resize smaller side of the image to 256 px, preserving aspect ratio\n",
    "    transforms.CenterCrop(224),  # Crop a square with size 224x224 px from the center of the image\n",
    "    transforms.ToTensor(),       # Convert PIL image (uint8, 0..255) to PyTorch Tensor (float32, 0..1)\n",
    "    transforms.Normalize(        # Subtract mean and divide by std\n",
    "        mean=[0.485, 0.456, 0.406],\n",
    "        std=[0.229, 0.224, 0.225],\n",
    "    )\n",
    "])\n",
    "tensor = transform_pipeline(img)"
   ]
  },
  {
   "cell_type": "markdown",
   "metadata": {},
   "source": [
    "PyTorch pretrained models expect the Tensor dims to be (num input imgs, num color channels, height, width).\n",
    "Currently however, we have (num color channels, height, width); let's fix this by inserting a new axis."
   ]
  },
  {
   "cell_type": "code",
   "execution_count": null,
   "metadata": {},
   "outputs": [],
   "source": [
    "print(f'shape before: {tensor.shape}')\n",
    "tensor = tensor.unsqueeze(0)  # Insert the new axis at index 0 i.e. in front of the other axes/dims.\n",
    "print(f'shape after: {tensor.shape}')"
   ]
  },
  {
   "cell_type": "markdown",
   "metadata": {},
   "source": [
    "Now let's load our model and get a prediction!"
   ]
  },
  {
   "cell_type": "code",
   "execution_count": null,
   "metadata": {},
   "outputs": [],
   "source": [
    "import torchvision.models as models\n",
    "\n",
    "vgg = models.vgg16(pretrained=True)  # This may take a few minutes.\n",
    "\n",
    "# Switch the model from training mode to inference (evaluation) mode. This alters the behavior of some layers.\n",
    "vgg.eval()"
   ]
  },
  {
   "cell_type": "code",
   "execution_count": null,
   "metadata": {},
   "outputs": [],
   "source": [
    "logits_tensor = vgg(tensor)  # Returns a Tensor of shape (batch, num class labels)\n",
    "logits = logits_tensor.detach().numpy()  # Disconnect torch.Tensor from the computational graph and convert it into a Numpy array\n",
    "logits = logits[0]  # Undo .unsqueeze()\n",
    "prediction = logits.argmax()  # Our prediction will be the index of the class label with the largest value.\n",
    "print(labels[prediction])  # Converts the index to a string using our labels dict"
   ]
  },
  {
   "cell_type": "markdown",
   "metadata": {},
   "source": [
    "Let's also compute top 5 predictions and their corresponding probabilities:"
   ]
  },
  {
   "cell_type": "code",
   "execution_count": null,
   "metadata": {},
   "outputs": [],
   "source": [
    "import scipy.special\n",
    "\n",
    "indices = logits.argsort()[-5:][::-1]\n",
    "probs = scipy.special.softmax(logits)\n",
    "for idx in indices:\n",
    "    print(f'{probs[idx] * 100:>5.2f} | {labels[idx]}')\n",
    "\n",
    "img"
   ]
  }
 ],
 "metadata": {
  "language_info": {
   "name": "python",
   "pygments_lexer": "ipython3"
  }
 },
 "nbformat": 4,
 "nbformat_minor": 1
}